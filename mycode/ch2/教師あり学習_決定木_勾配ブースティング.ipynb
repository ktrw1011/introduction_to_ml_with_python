{
 "cells": [
  {
   "cell_type": "code",
   "execution_count": 1,
   "metadata": {},
   "outputs": [],
   "source": [
    "import mglearn\n",
    "import pandas as pd\n",
    "import numpy as np\n",
    "import matplotlib.pyplot as plt\n",
    "import seaborn as sns\n",
    "import os\n",
    "%matplotlib inline"
   ]
  },
  {
   "cell_type": "markdown",
   "metadata": {},
   "source": [
    "# 勾配ブースティング回帰(勾配ブースティングマシン)\n",
    "複数の決定木を組み合わせてより強力なモデルを構築するもう一つのアンサンブル学習の方法。  \n",
    "ランダムフォレストとは対象的に、勾配ブースティングでは一つ前の決定木の誤りを次の決定木が修正するようにして、決定木を順番に作っていく。  \n",
    "デフォルトでは勾配ブースティング回帰木に乱数性はなく、強力の事前枝狩りが用いられる。ポイントは**浅い決定木のような、簡単なモデル(弱学習器)を多数組み合わせることにある。**  "
   ]
  },
  {
   "cell_type": "markdown",
   "metadata": {},
   "source": [
    "各ステップで弱学習器を構築して損失関数を最小化。次の学習器を構築する際に、間違えたデータのウェイトに重みをつけて、次のステップで誤りを正しくするように学習器を強化(ブースト)していく。**個々の決定木がどれほど誤りを強く補正しようとするかを制御するかのパラメータに学習率(laerning_rate)とい重要なパラメータがある。**誤りを強く補正しようとすると、モデルが複雑になり汎化性能が下がる。  \n",
    "またn_estimatorsを多くし過ぎると、アンサンブルの中の決定木が誤りを補正する機会が増えるので、やはり汎化性能が下がる"
   ]
  },
  {
   "cell_type": "code",
   "execution_count": 6,
   "metadata": {},
   "outputs": [
    {
     "name": "stdout",
     "output_type": "stream",
     "text": [
      "X_train shape: (426, 30)\n",
      "y_train shape: (426,)\n"
     ]
    }
   ],
   "source": [
    "from sklearn.ensemble import GradientBoostingClassifier\n",
    "from sklearn.datasets import load_breast_cancer\n",
    "from sklearn.model_selection import train_test_split\n",
    "\n",
    "cancer = load_breast_cancer()\n",
    "\n",
    "X_train,X_test,y_train,y_test = train_test_split(cancer.data, cancer.target, random_state=0)\n",
    "\n",
    "print('X_train shape: {}'.format(X_train.shape))\n",
    "print('y_train shape: {}'.format(y_train.shape))"
   ]
  },
  {
   "cell_type": "code",
   "execution_count": 8,
   "metadata": {},
   "outputs": [
    {
     "data": {
      "text/plain": [
       "GradientBoostingClassifier(criterion='friedman_mse', init=None,\n",
       "              learning_rate=0.1, loss='deviance', max_depth=3,\n",
       "              max_features=None, max_leaf_nodes=None,\n",
       "              min_impurity_decrease=0.0, min_impurity_split=None,\n",
       "              min_samples_leaf=1, min_samples_split=2,\n",
       "              min_weight_fraction_leaf=0.0, n_estimators=100,\n",
       "              presort='auto', random_state=0, subsample=1.0, verbose=0,\n",
       "              warm_start=False)"
      ]
     },
     "execution_count": 8,
     "metadata": {},
     "output_type": "execute_result"
    }
   ],
   "source": [
    "gbrt = GradientBoostingClassifier(random_state=0)\n",
    "gbrt.fit(X_train,y_train)"
   ]
  },
  {
   "cell_type": "code",
   "execution_count": 12,
   "metadata": {},
   "outputs": [
    {
     "name": "stdout",
     "output_type": "stream",
     "text": [
      "Accurancy on trainning data : 1.000\n",
      "Accurancy on test data : 0.958\n"
     ]
    }
   ],
   "source": [
    "print('Accurancy on trainning data : {:,.3f}'.format(gbrt.score(X_train, y_train)))\n",
    "print('Accurancy on test data : {:,.3f}'.format(gbrt.score(X_test, y_test)))"
   ]
  },
  {
   "cell_type": "code",
   "execution_count": 14,
   "metadata": {},
   "outputs": [
    {
     "name": "stdout",
     "output_type": "stream",
     "text": [
      "Accurancy on trainning data : 0.988\n",
      "Accurancy on test data : 0.965\n"
     ]
    }
   ],
   "source": [
    "#学習率を下げることで、誤りの補正具合を下げて汎化性能をあげる\n",
    "gbrt = GradientBoostingClassifier(random_state=0, learning_rate=0.01)\n",
    "gbrt.fit(X_train,y_train)\n",
    "print('Accurancy on trainning data : {:,.3f}'.format(gbrt.score(X_train, y_train)))\n",
    "print('Accurancy on test data : {:,.3f}'.format(gbrt.score(X_test, y_test)))"
   ]
  },
  {
   "cell_type": "code",
   "execution_count": 15,
   "metadata": {},
   "outputs": [
    {
     "name": "stdout",
     "output_type": "stream",
     "text": [
      "Accurancy on trainning data : 0.991\n",
      "Accurancy on test data : 0.972\n"
     ]
    }
   ],
   "source": [
    "#max_depthを制限してより強力に事前枝狩りを行う。\n",
    "gbrt = GradientBoostingClassifier(random_state=0, max_depth=1)\n",
    "gbrt.fit(X_train,y_train)\n",
    "print('Accurancy on trainning data : {:,.3f}'.format(gbrt.score(X_train, y_train)))\n",
    "print('Accurancy on test data : {:,.3f}'.format(gbrt.score(X_test, y_test)))"
   ]
  },
  {
   "cell_type": "code",
   "execution_count": 20,
   "metadata": {},
   "outputs": [
    {
     "data": {
      "text/plain": [
       "<matplotlib.axes._subplots.AxesSubplot at 0x1c177f2da0>"
      ]
     },
     "execution_count": 20,
     "metadata": {},
     "output_type": "execute_result"
    },
    {
     "data": {
      "image/png": "[encoded data removed]",
      "text/plain": [
       "<Figure size 720x360 with 1 Axes>"
      ]
     },
     "metadata": {
      "needs_background": "light"
     },
     "output_type": "display_data"
    }
   ],
   "source": [
    "f_importance= pd.DataFrame(\n",
    "    {'importance': gbrt.feature_importances_},\n",
    "    index=cancer.feature_names\n",
    ")\n",
    "plt.figure(figsize=(10,5))\n",
    "sns.barplot(x=f_importance.importance, y=f_importance.index,data=f_importance)"
   ]
  },
  {
   "cell_type": "markdown",
   "metadata": {},
   "source": [
    "勾配ブースティング回帰木の特徴量重要度はランダムフォレストのそれと似通っているが、いくつかの特徴量は無視されていることがわかる。  "
   ]
  },
  {
   "cell_type": "markdown",
   "metadata": {},
   "source": [
    "## まとめ\n",
    "勾配ブースティング回帰木とランダムフォレストは同じようなデータを得意とするので、一般にはランダムフォレストの方が頑健なのでランダムフォレストを先に試した方が良い。 ランダムフォレストがうまく行ったとしても、モデルの性能を1%でも絞りたい場合には勾配ブースティングが良いだろう。(なのでコンペではこちらがよく使われる)。ただしランダムフォレストに比べるとパラメータ影響を受けやすい。  \n",
    "\n",
    "#### 主要なパラメータ  \n",
    "- n_estimators:決定木の数。大きくし過ぎると、誤り補正の機会が多くなるので過剰適合を引きおこす。ランダムフォレストでは逆で決定木の数を増やすことで、過剰適合を防いだこととは逆である。\n",
    "- laerning_rate:どのくらい強く誤りを補正するか。小さくし過ぎると誤り補正が弱くなるので、複雑なモデルをつくるのにより多くの決定木を作る必要がある  \n",
    "\n",
    "一般的に、n_estimatorsを時間とメモリ量で決めておき、learning_rateに対して探索を行う手法が用いられる(最初はn_estimatorsを探索して最後にlearning_rateの微調整を行う)。 \n",
    "他には個々の決定木の複雑さの調整を行うmax_depth(もしくはmax_leaf_nodes)で、一般に勾配ブースティングではmax_depthが5より深くなることはあまりない。"
   ]
  },
  {
   "cell_type": "code",
   "execution_count": null,
   "metadata": {},
   "outputs": [],
   "source": []
  }
 ],
 "metadata": {
  "kernelspec": {
   "display_name": "Python 3",
   "language": "python",
   "name": "python3"
  },
  "language_info": {
   "codemirror_mode": {
    "name": "ipython",
    "version": 3
   },
   "file_extension": ".py",
   "mimetype": "text/x-python",
   "name": "python",
   "nbconvert_exporter": "python",
   "pygments_lexer": "ipython3",
   "version": "3.6.7"
  }
 },
 "nbformat": 4,
 "nbformat_minor": 2
}
