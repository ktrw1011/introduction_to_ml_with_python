{
 "cells": [
  {
   "cell_type": "markdown",
   "metadata": {},
   "source": [
    "# 線形モデル"
   ]
  },
  {
   "cell_type": "code",
   "execution_count": 1,
   "metadata": {},
   "outputs": [],
   "source": [
    "import mglearn\n",
    "import pandas as pd\n",
    "import numpy as np\n",
    "import matplotlib.pyplot as plt\n",
    "%matplotlib inline"
   ]
  },
  {
   "cell_type": "markdown",
   "metadata": {},
   "source": [
    "## 1.最小二乗法\n",
    "実測値と予測値の二乗誤差が最小になるようなパラメータをもとめる"
   ]
  },
  {
   "cell_type": "code",
   "execution_count": 9,
   "metadata": {},
   "outputs": [
    {
     "name": "stdout",
     "output_type": "stream",
     "text": [
      "X shape:(60, 1)\n",
      "y shape:(60,)\n"
     ]
    }
   ],
   "source": [
    "from sklearn.linear_model import LinearRegression\n",
    "from sklearn.model_selection import train_test_split\n",
    "\n",
    "X, y = mglearn.datasets.make_wave(n_samples=60)\n",
    "print('X shape:{}'.format(X.shape))\n",
    "print('y shape:{}'.format(y.shape))\n",
    "\n",
    "X_train,X_test,y_train,y_test = train_test_split(X, y, random_state=42)\n",
    "\n",
    "lr = LinearRegression().fit(X_train,y_train)"
   ]
  },
  {
   "cell_type": "code",
   "execution_count": 12,
   "metadata": {},
   "outputs": [
    {
     "name": "stdout",
     "output_type": "stream",
     "text": [
      "lr.coef_:[0.39390555]\n",
      "lr.intercept_:-0.031804343026759746\n"
     ]
    }
   ],
   "source": [
    "print(f'lr.coef_:{lr.coef_}')\n",
    "print(f'lr.intercept_:{lr.intercept_}')"
   ]
  },
  {
   "cell_type": "code",
   "execution_count": 17,
   "metadata": {},
   "outputs": [
    {
     "name": "stdout",
     "output_type": "stream",
     "text": [
      "Training set score: 0.67\n",
      "Test set score: 0.66\n"
     ]
    }
   ],
   "source": [
    "print('Training set score: {:,.2f}'.format(lr.score(X_train,y_train)))\n",
    "print('Test set score: {:,.2f}'.format(lr.score(X_test,y_test)))"
   ]
  },
  {
   "cell_type": "markdown",
   "metadata": {},
   "source": [
    "R^2が0.67というのは性能が良くないが、訓練とテストで値が近いので、過剰適合ではないだろう。つまり適合不足。\n",
    "一次元のデータではモデルが単純なので過剰適合の危険は少ない。  \n",
    "しかし、**多次元では線形モデルは過剰適合になる危険性が高まる**  \n",
    "これを105の特徴量と506のサンプルをもつデータセットで検証してみる"
   ]
  },
  {
   "cell_type": "code",
   "execution_count": 19,
   "metadata": {},
   "outputs": [
    {
     "name": "stdout",
     "output_type": "stream",
     "text": [
      "X shape:(506, 104)\n",
      "y shape:(506,)\n"
     ]
    }
   ],
   "source": [
    "X, y = mglearn.datasets.load_extended_boston()\n",
    "\n",
    "print('X shape:{}'.format(X.shape))\n",
    "print('y shape:{}'.format(y.shape))\n",
    "X_train,X_test,y_train,y_test = train_test_split(X, y, random_state=0)"
   ]
  },
  {
   "cell_type": "code",
   "execution_count": 20,
   "metadata": {},
   "outputs": [
    {
     "name": "stdout",
     "output_type": "stream",
     "text": [
      "Training set score: 0.95\n",
      "Test set score: 0.61\n"
     ]
    }
   ],
   "source": [
    "lr = LinearRegression().fit(X_train,y_train)\n",
    "print('Training set score: {:,.2f}'.format(lr.score(X_train,y_train)))\n",
    "print('Test set score: {:,.2f}'.format(lr.score(X_test,y_test)))"
   ]
  },
  {
   "cell_type": "markdown",
   "metadata": {},
   "source": [
    "訓練データに対してテストデータの精度が非常に悪い。明らかに過剰適合である。これを改良するためには**リッジ回帰**を使用する"
   ]
  },
  {
   "cell_type": "markdown",
   "metadata": {},
   "source": [
    "### 1.1リッジ回帰\n",
    "直感的には、予測をうまく行いつつ個々の特徴量が出力に与える影響を小さくする。パラメータに制約を加えて、訓練データに適合しすぎないようにして汎化性能の向上を目指す  \n",
    "数学的には制約項を加えて、その条件下でラグランジュの未定乗数法を解くこと\n",
    "*****\n",
    "参考\n",
    "- https://www.iwanttobeacat.com/entry/2018/02/02/012002"
   ]
  },
  {
   "cell_type": "code",
   "execution_count": 23,
   "metadata": {},
   "outputs": [
    {
     "name": "stdout",
     "output_type": "stream",
     "text": [
      "Training set score: 0.89\n",
      "Test set score: 0.75\n"
     ]
    }
   ],
   "source": [
    "from sklearn.linear_model import Ridge\n",
    "\n",
    "ridge = Ridge().fit(X_train,y_train)\n",
    "print('Training set score: {:,.2f}'.format(ridge.score(X_train,y_train)))\n",
    "print('Test set score: {:,.2f}'.format(ridge.score(X_test,y_test)))"
   ]
  },
  {
   "cell_type": "markdown",
   "metadata": {},
   "source": [
    "通常の線形回帰に比べて、訓練データに対する適合は低く、テストデータに対する適合が高くなった。これは期待する結果の通りである。  \n",
    "制約のパラメーターは通常は1.0であるが、これは訓練データとテストデータの間でトレードオフの関係になる。  \n",
    "alphaを増やすと、訓練データの性能が低下するが、汎化性能はあがるかもしれない。"
   ]
  },
  {
   "cell_type": "code",
   "execution_count": 25,
   "metadata": {},
   "outputs": [
    {
     "name": "stdout",
     "output_type": "stream",
     "text": [
      "Training set score: 0.79\n",
      "Test set score: 0.64\n"
     ]
    }
   ],
   "source": [
    "ridge10 = Ridge(alpha=10).fit(X_train,y_train)\n",
    "print('Training set score: {:,.2f}'.format(ridge10.score(X_train,y_train)))\n",
    "print('Test set score: {:,.2f}'.format(ridge10.score(X_test,y_test)))"
   ]
  },
  {
   "cell_type": "code",
   "execution_count": 26,
   "metadata": {},
   "outputs": [
    {
     "name": "stdout",
     "output_type": "stream",
     "text": [
      "Training set score: 0.93\n",
      "Test set score: 0.77\n"
     ]
    }
   ],
   "source": [
    "ridge01 = Ridge(alpha=0.1).fit(X_train,y_train)\n",
    "print('Training set score: {:,.2f}'.format(ridge01.score(X_train,y_train)))\n",
    "print('Test set score: {:,.2f}'.format(ridge01.score(X_test,y_test)))"
   ]
  },
  {
   "cell_type": "markdown",
   "metadata": {},
   "source": [
    "今回のデータではalphaは0.1ぐらいか丁度良いかもしれない。このチューニングは別の章で詳しく見る。"
   ]
  },
  {
   "cell_type": "code",
   "execution_count": 32,
   "metadata": {},
   "outputs": [
    {
     "data": {
      "text/plain": [
       "<matplotlib.legend.Legend at 0x1c22e1deb8>"
      ]
     },
     "execution_count": 32,
     "metadata": {},
     "output_type": "execute_result"
    },
    {
     "data": {
      "image/png": "[encoded data removed]",
      "text/plain": [
       "<Figure size 432x288 with 1 Axes>"
      ]
     },
     "metadata": {
      "needs_background": "light"
     },
     "output_type": "display_data"
    }
   ],
   "source": [
    "plt.plot(ridge.coef_, 's',label='Ridge alpha=1')\n",
    "plt.plot(ridge10.coef_, '^',label='Ridge alpha=10')\n",
    "plt.plot(ridge01.coef_, 'v',label='Ridge alpha=0.1')\n",
    "\n",
    "plt.plot(lr.coef_, 'o',label='LinearRegression')\n",
    "plt.xlabel('Coefficeient index(係数の番号)')\n",
    "plt.ylabel('Coefficeient magunitude(係数の大きさ)')\n",
    "plt.hlines(0,0,len(lr.coef_))\n",
    "plt.ylim(-25,25)\n",
    "plt.legend()"
   ]
  },
  {
   "cell_type": "markdown",
   "metadata": {},
   "source": [
    "alpha=10ではほとんどの係数が-3から3の間に入っており、alphaが小さいほど、この間隔が大きくなっていることが分かる。  \n",
    "つまり訓練データに対して最小二乗誤差を小さくするために過剰適合することになる"
   ]
  },
  {
   "cell_type": "markdown",
   "metadata": {},
   "source": [
    "今度はalphaを固定して訓練データのサンプル数を変えてみる"
   ]
  },
  {
   "cell_type": "code",
   "execution_count": 34,
   "metadata": {},
   "outputs": [
    {
     "data": {
      "image/png": "[encoded data removed]",
      "text/plain": [
       "<Figure size 432x288 with 1 Axes>"
      ]
     },
     "metadata": {
      "needs_background": "light"
     },
     "output_type": "display_data"
    }
   ],
   "source": [
    "mglearn.plots.plot_ridge_n_samples()"
   ]
  },
  {
   "cell_type": "markdown",
   "metadata": {},
   "source": [
    "サンプル数が少ないと特に400以下の場合では、リッジ回帰のほうが通常の線形回帰に比べて汎化性能が良い  \n",
    "サンプル数が増えると双方の汎化性能は上昇し、どちらもよい結果となる  \n",
    "つまりサンプル数が多いと**正則化はあまり重要ではなくなる**  \n",
    "直感的に考えるとデータ数が多いと訓練データはどんな入力に対しても説得力が増すからだろう"
   ]
  },
  {
   "cell_type": "markdown",
   "metadata": {},
   "source": [
    "### 1.2.ロッソ回帰\n",
    "リッジ回帰と同様に係数に対して制約をかけるが、Lasso回帰の場合においてはいくつかの係数が完全に0になる。  \n",
    "これはいくつかの特徴量を完全に無視しているということになる。つまり自動的に特徴量を選択している。\n",
    "特徴量が減れば、モデルがシンプルになり、なにが重要であるかが解釈しやすくなる"
   ]
  },
  {
   "cell_type": "code",
   "execution_count": 37,
   "metadata": {},
   "outputs": [
    {
     "name": "stdout",
     "output_type": "stream",
     "text": [
      "Training set score: 0.29\n",
      "Test set score: 0.21\n",
      "Number of feature used: 4\n"
     ]
    }
   ],
   "source": [
    "from sklearn.linear_model import Lasso\n",
    "\n",
    "lasso = Lasso().fit(X_train,y_train)\n",
    "print('Training set score: {:,.2f}'.format(lasso.score(X_train,y_train)))\n",
    "print('Test set score: {:,.2f}'.format(lasso.score(X_test,y_test)))\n",
    "print('Number of feature used: {}'.format(np.sum(lasso.coef_ != 0)))"
   ]
  },
  {
   "cell_type": "markdown",
   "metadata": {},
   "source": [
    "105ある特徴量に対して4つの特徴量しか使っておらず性能が悪い。  \n",
    "リッジ回帰同様に正則化のパラメータalphaを調整すること特徴量の数がどう変化するか検証する"
   ]
  },
  {
   "cell_type": "code",
   "execution_count": 38,
   "metadata": {},
   "outputs": [
    {
     "name": "stdout",
     "output_type": "stream",
     "text": [
      "Training set score: 0.90\n",
      "Test set score: 0.77\n",
      "Number of feature used: 33\n"
     ]
    }
   ],
   "source": [
    "#最大繰り返し数をデフォルトから増やさないと警告を発する\n",
    "lasso001 = Lasso(alpha=0.01, max_iter=100000).fit(X_train,y_train)\n",
    "print('Training set score: {:,.2f}'.format(lasso001.score(X_train,y_train)))\n",
    "print('Test set score: {:,.2f}'.format(lasso001.score(X_test,y_test)))\n",
    "print('Number of feature used: {}'.format(np.sum(lasso001.coef_ != 0)))"
   ]
  },
  {
   "cell_type": "markdown",
   "metadata": {},
   "source": [
    "リッジ回帰と同程度の性能だが、**特徴量は33しか使っていないため解釈がより簡単になっている**  \n",
    "リッジ回帰同様にalphaの値を小さくすると正則化の効果は薄れ、過剰適合する可能性が高まる"
   ]
  },
  {
   "cell_type": "code",
   "execution_count": 40,
   "metadata": {},
   "outputs": [
    {
     "name": "stdout",
     "output_type": "stream",
     "text": [
      "Training set score: 0.95\n",
      "Test set score: 0.64\n",
      "Number of feature used: 94\n"
     ]
    }
   ],
   "source": [
    "lasso00001 = Lasso(alpha=0.0001, max_iter=100000).fit(X_train,y_train)\n",
    "print('Training set score: {:,.2f}'.format(lasso00001.score(X_train,y_train)))\n",
    "print('Test set score: {:,.2f}'.format(lasso00001.score(X_test,y_test)))\n",
    "print('Number of feature used: {}'.format(np.sum(lasso00001.coef_ != 0)))"
   ]
  },
  {
   "cell_type": "code",
   "execution_count": 42,
   "metadata": {},
   "outputs": [
    {
     "data": {
      "text/plain": [
       "<matplotlib.legend.Legend at 0x1c21dad9e8>"
      ]
     },
     "execution_count": 42,
     "metadata": {},
     "output_type": "execute_result"
    },
    {
     "data": {
      "image/png": "[encoded data removed]",
      "text/plain": [
       "<Figure size 432x288 with 1 Axes>"
      ]
     },
     "metadata": {
      "needs_background": "light"
     },
     "output_type": "display_data"
    }
   ],
   "source": [
    "plt.plot(lasso.coef_, 's',label='lasso alpha=1')\n",
    "plt.plot(lasso001.coef_, '^',label='lasso alpha=0.01')\n",
    "plt.plot(lasso00001.coef_, 'v',label='lasso alpha=0.001')\n",
    "\n",
    "plt.plot(ridge01.coef_, 'o',label='Ridge alhpa=0.1')\n",
    "plt.xlabel('Coefficeient index(係数の番号)')\n",
    "plt.ylabel('Coefficeient magunitude(係数の大きさ)')\n",
    "plt.hlines(0,0,len(lr.coef_))\n",
    "plt.ylim(-25,25)\n",
    "plt.legend(ncol=2,loc=(0,1.05))"
   ]
  },
  {
   "cell_type": "markdown",
   "metadata": {},
   "source": [
    "alpha=0.1のときのリッジ回帰とalpha=0.01の時のラッソ回帰は同程度の汎化性能を示したが、ラッソ回帰ではいくつかの特徴量が0になっている"
   ]
  },
  {
   "cell_type": "markdown",
   "metadata": {},
   "source": [
    "##  まとめ\n",
    "- まずはリッジ回帰を試すのがよい。そのうち重要なものがわずかしかないと予測されるならラッソ回帰を選ぶのがよいだろう。同様に解釈しやすいモデルが欲しい場合はラッソ回帰がよいかもしれない\n",
    "- LassoとRidgeの両方のペナルティを含めたElasticNetも存在するが、ハイパーパラメーターは2つ選択しなければならない"
   ]
  },
  {
   "cell_type": "code",
   "execution_count": null,
   "metadata": {},
   "outputs": [],
   "source": []
  }
 ],
 "metadata": {
  "kernelspec": {
   "display_name": "Python 3",
   "language": "python",
   "name": "python3"
  },
  "language_info": {
   "codemirror_mode": {
    "name": "ipython",
    "version": 3
   },
   "file_extension": ".py",
   "mimetype": "text/x-python",
   "name": "python",
   "nbconvert_exporter": "python",
   "pygments_lexer": "ipython3",
   "version": "3.6.6"
  }
 },
 "nbformat": 4,
 "nbformat_minor": 2
}
