{
 "cells": [
  {
   "cell_type": "code",
   "execution_count": 2,
   "metadata": {},
   "outputs": [],
   "source": [
    "import pandas as pd\n",
    "import numpy as np\n",
    "import mglearn\n",
    "import matplotlib.pyplot\n",
    "%matplotlib inline"
   ]
  },
  {
   "cell_type": "markdown",
   "metadata": {},
   "source": [
    "教師あり学習を評価するには、train_test_split関数を呼び出してデータセットを訓練セットとテストセットに分割し、訓練セットに対してfitメソッドを適用して、テストセットに対してはscoreメソッドを呼び出して評価してきた  \n",
    "モデルは未知のデータに対して、精度よく予測しなければならない。つまりモチベーションは汎化性能の向上である。"
   ]
  },
  {
   "cell_type": "code",
   "execution_count": 32,
   "metadata": {},
   "outputs": [
    {
     "name": "stdout",
     "output_type": "stream",
     "text": [
      "X train shape: (75, 2)\n",
      "y train shape: (75,)\n",
      "X test shape: (25, 2)\n",
      "y test shape: (25,)\n",
      "Test set score: 0.88\n"
     ]
    }
   ],
   "source": [
    "from sklearn.datasets import make_blobs\n",
    "from sklearn.linear_model import LogisticRegression\n",
    "from sklearn.model_selection import train_test_split\n",
    "\n",
    "X, y = make_blobs(random_state=0)\n",
    "X_train ,X_test, y_train,y_test = train_test_split(X, y, random_state=0)\n",
    "print('X train shape: {}'.format(X_train.shape))\n",
    "print('y train shape: {}'.format(y_train.shape))\n",
    "print('X test shape: {}'.format(X_test.shape))\n",
    "print('y test shape: {}'.format(y_test.shape))\n",
    "\n",
    "logreg = LogisticRegression().fit(X_train, y_train)\n",
    "print('Test set score: {:,.2f}'.format(logreg.score(X_test, y_test)))"
   ]
  },
  {
   "cell_type": "markdown",
   "metadata": {},
   "source": [
    "# Cross-Validation(交差検証)\n",
    "データセットを訓練セットとテストセットにただ分割するよりもより徹底して汎化性能を評価する統計的手法。  \n",
    "**k分割交差検証(k-hold cross-validation)**がよく用いられる。  \n",
    "kはユーザーが決めるパラメータであり、データセットをk個に分割して、一つをテストセットとして用いて残りをk-1個を訓練セットに用いる。ｋ個に分割したデータセットがテストセットになるように評価を繰り返して、最終的にk個の精度を手に入れる。  \n",
    "  \n",
    "Cross-Validationはランダムサンプリングを繰り返して**平均をとることを繰り返せば、分布は母集団の平均**に近く中心極限定理を思い出せば、直感的な理解に役立つ。つまり訓練セット間のデータのばらつきを抑えることができる"
   ]
  },
  {
   "cell_type": "code",
   "execution_count": 33,
   "metadata": {},
   "outputs": [
    {
     "name": "stderr",
     "output_type": "stream",
     "text": [
      "/Users/ktr.w/.pyenv/versions/anaconda3-4.3.0/lib/python3.6/site-packages/matplotlib/pyplot.py:2795: MatplotlibDeprecationWarning: The *bottom* kwarg to `barh` is deprecated use *y* instead. Support for *bottom* will be removed in Matplotlib 3.0\n",
      "  ret = ax.barh(*args, **kwargs)\n"
     ]
    },
    {
     "data": {
      "image/png": "[encoded data removed]",
      "text/plain": [
       "<Figure size 864x144 with 1 Axes>"
      ]
     },
     "metadata": {
      "needs_background": "light"
     },
     "output_type": "display_data"
    }
   ],
   "source": [
    "mglearn.plots.plot_cross_validation()"
   ]
  },
  {
   "cell_type": "code",
   "execution_count": 34,
   "metadata": {},
   "outputs": [
    {
     "name": "stdout",
     "output_type": "stream",
     "text": [
      "Cross-validation scores: [0.96078431 0.92156863 0.95833333]\n"
     ]
    }
   ],
   "source": [
    "from sklearn.model_selection import cross_val_score\n",
    "from sklearn.datasets import load_iris\n",
    "from sklearn.linear_model import LogisticRegression\n",
    "\n",
    "iris = load_iris()\n",
    "logreg = LogisticRegression()\n",
    "#kはデフォルトで3\n",
    "scores = cross_val_score(logreg, iris.data, iris.target)\n",
    "print('Cross-validation scores: {}'.format(scores))"
   ]
  },
  {
   "cell_type": "code",
   "execution_count": 35,
   "metadata": {},
   "outputs": [
    {
     "name": "stdout",
     "output_type": "stream",
     "text": [
      "Cross-validation scores: [1.         0.96666667 0.93333333 0.9        1.        ]\n"
     ]
    }
   ],
   "source": [
    "#k=5\n",
    "scores = cross_val_score(logreg, iris.data, iris.target, cv=5)\n",
    "print('Cross-validation scores: {}'.format(scores))"
   ]
  },
  {
   "cell_type": "code",
   "execution_count": 36,
   "metadata": {},
   "outputs": [
    {
     "name": "stdout",
     "output_type": "stream",
     "text": [
      "Cross-validation scores: 0.9600000000000002\n"
     ]
    }
   ],
   "source": [
    "#一般には平均をとる\n",
    "scores = cross_val_score(logreg, iris.data, iris.target, cv=5)\n",
    "print('Cross-validation scores: {}'.format(scores.mean()))"
   ]
  },
  {
   "cell_type": "markdown",
   "metadata": {},
   "source": [
    "分割間で精度にバラつきが大きい。このモデルは訓練に用いられた特定の分割に強く依存していることを示すが、ただデータセットが小さ過ぎるせいなのかもしれない"
   ]
  },
  {
   "cell_type": "markdown",
   "metadata": {},
   "source": [
    "## 層化ｋ分割交差検証(startified k-hold cross-validation)\n",
    "もしデータがランダムに並んでいるのではなく、規則正しく並んでいる場合に単純なk分割交差検証を行うと、データセットに一部のデータしか含まれないことになり正しく交差検証ができなくなる。これを解決するために、sklaenでは単純なk分割交差検証を行わずに、分割したデータセット内でのクラスの比率が等しくなるように抽出を行う、層化ｋ分割交差検証を用いる。"
   ]
  },
  {
   "cell_type": "code",
   "execution_count": 17,
   "metadata": {},
   "outputs": [
    {
     "name": "stdout",
     "output_type": "stream",
     "text": [
      "Iris lavels: [0 0 0 0 0 0 0 0 0 0 0 0 0 0 0 0 0 0 0 0 0 0 0 0 0 0 0 0 0 0 0 0 0 0 0 0 0\n",
      " 0 0 0 0 0 0 0 0 0 0 0 0 0 1 1 1 1 1 1 1 1 1 1 1 1 1 1 1 1 1 1 1 1 1 1 1 1\n",
      " 1 1 1 1 1 1 1 1 1 1 1 1 1 1 1 1 1 1 1 1 1 1 1 1 1 1 2 2 2 2 2 2 2 2 2 2 2\n",
      " 2 2 2 2 2 2 2 2 2 2 2 2 2 2 2 2 2 2 2 2 2 2 2 2 2 2 2 2 2 2 2 2 2 2 2 2 2\n",
      " 2 2]\n"
     ]
    }
   ],
   "source": [
    "print('Iris lavels: {}'.format(iris.target))"
   ]
  },
  {
   "cell_type": "code",
   "execution_count": 18,
   "metadata": {},
   "outputs": [
    {
     "name": "stderr",
     "output_type": "stream",
     "text": [
      "/Users/ktr.w/.pyenv/versions/anaconda3-4.3.0/lib/python3.6/site-packages/mglearn/plot_cross_validation.py:121: MatplotlibDeprecationWarning: The *bottom* kwarg to `barh` is deprecated use *y* instead. Support for *bottom* will be removed in Matplotlib 3.0\n",
      "  color=colors, hatch=\"//\", edgecolor='k', align='edge')\n",
      "/Users/ktr.w/.pyenv/versions/anaconda3-4.3.0/lib/python3.6/site-packages/mglearn/plot_cross_validation.py:125: MatplotlibDeprecationWarning: The *bottom* kwarg to `barh` is deprecated use *y* instead. Support for *bottom* will be removed in Matplotlib 3.0\n",
      "  color=\"w\", edgecolor='k', align='edge')\n",
      "/Users/ktr.w/.pyenv/versions/anaconda3-4.3.0/lib/python3.6/site-packages/mglearn/plot_cross_validation.py:158: MatplotlibDeprecationWarning: The *bottom* kwarg to `barh` is deprecated use *y* instead. Support for *bottom* will be removed in Matplotlib 3.0\n",
      "  height=.6, color=\"grey\", hatch=\"//\", edgecolor='k', align='edge')\n",
      "/Users/ktr.w/.pyenv/versions/anaconda3-4.3.0/lib/python3.6/site-packages/mglearn/plot_cross_validation.py:163: MatplotlibDeprecationWarning: The *bottom* kwarg to `barh` is deprecated use *y* instead. Support for *bottom* will be removed in Matplotlib 3.0\n",
      "  hatch=\"//\", edgecolor='k', align='edge')\n",
      "/Users/ktr.w/.pyenv/versions/anaconda3-4.3.0/lib/python3.6/site-packages/mglearn/plot_cross_validation.py:167: MatplotlibDeprecationWarning: The *bottom* kwarg to `barh` is deprecated use *y* instead. Support for *bottom* will be removed in Matplotlib 3.0\n",
      "  edgecolor='k', align='edge')\n",
      "/Users/ktr.w/.pyenv/versions/anaconda3-4.3.0/lib/python3.6/site-packages/mglearn/plot_cross_validation.py:171: MatplotlibDeprecationWarning: The *bottom* kwarg to `barh` is deprecated use *y* instead. Support for *bottom* will be removed in Matplotlib 3.0\n",
      "  align='edge')\n",
      "/Users/ktr.w/.pyenv/versions/anaconda3-4.3.0/lib/python3.6/site-packages/mglearn/plot_cross_validation.py:175: MatplotlibDeprecationWarning: The *bottom* kwarg to `barh` is deprecated use *y* instead. Support for *bottom* will be removed in Matplotlib 3.0\n",
      "  color=\"w\", edgecolor='k', align='edge')\n"
     ]
    },
    {
     "data": {
      "image/png": "[encoded data removed]",
      "text/plain": [
       "<Figure size 864x360 with 2 Axes>"
      ]
     },
     "metadata": {
      "needs_background": "light"
     },
     "output_type": "display_data"
    }
   ],
   "source": [
    "mglearn.plots.plot_stratified_cross_validation()"
   ]
  },
  {
   "cell_type": "markdown",
   "metadata": {},
   "source": [
    "CVパラメータに、交差検証分割器を与えることでより詳細に交差検証を操作することができる。"
   ]
  },
  {
   "cell_type": "code",
   "execution_count": 22,
   "metadata": {},
   "outputs": [
    {
     "name": "stdout",
     "output_type": "stream",
     "text": [
      "Cross-validation scores: [1.         0.93333333 0.43333333 0.96666667 0.43333333]\n"
     ]
    }
   ],
   "source": [
    "from sklearn.model_selection import KFold\n",
    "\n",
    "kfold = KFold(n_splits=5)\n",
    "scores = cross_val_score(logreg, iris.data, iris.target, cv=kfold)\n",
    "print('Cross-validation scores: {}'.format(scores))"
   ]
  },
  {
   "cell_type": "code",
   "execution_count": 23,
   "metadata": {},
   "outputs": [
    {
     "name": "stdout",
     "output_type": "stream",
     "text": [
      "Cross-validation scores: [0. 0. 0.]\n"
     ]
    }
   ],
   "source": [
    "kfold = KFold(n_splits=3)\n",
    "scores = cross_val_score(logreg, iris.data, iris.target, cv=kfold)\n",
    "print('Cross-validation scores: {}'.format(scores))"
   ]
  },
  {
   "cell_type": "markdown",
   "metadata": {},
   "source": [
    "個々の分割がirisデータセットの個々のクラスに対応しているので、何も学習することができない。この問題を解決する別の方法として、データをシャッフルしてサンプルがラベル順に並ばないようにすればよい。"
   ]
  },
  {
   "cell_type": "code",
   "execution_count": 24,
   "metadata": {},
   "outputs": [
    {
     "name": "stdout",
     "output_type": "stream",
     "text": [
      "Cross-validation scores: [0.9  0.96 0.96]\n"
     ]
    }
   ],
   "source": [
    "kfold = KFold(n_splits=3, shuffle=True, random_state=0)\n",
    "scores = cross_val_score(logreg, iris.data, iris.target, cv=kfold)\n",
    "print('Cross-validation scores: {}'.format(scores))"
   ]
  },
  {
   "cell_type": "markdown",
   "metadata": {},
   "source": [
    "層化ｋ分割交差検証を行う場合。ランダムにデータセットを並び替えて、かつ訓練セットとテストセットにクラスが同じ比率で含まれるようにする"
   ]
  },
  {
   "cell_type": "code",
   "execution_count": 53,
   "metadata": {},
   "outputs": [
    {
     "name": "stdout",
     "output_type": "stream",
     "text": [
      "Cross-validation scores: [0.98039216 0.94117647 0.95833333]\n"
     ]
    }
   ],
   "source": [
    "from sklearn.model_selection import StratifiedKFold\n",
    "sfold = StratifiedKFold(n_splits=3, shuffle=True,random_state=3)\n",
    "scores = cross_val_score(logreg, iris.data, iris.target, cv=sfold )\n",
    "print('Cross-validation scores: {}'.format(scores))"
   ]
  },
  {
   "cell_type": "markdown",
   "metadata": {},
   "source": [
    "## 一つ抜き交差検証(leave-one-out)\n",
    "k分割交差検証の個々の分割が1サンプルしかないもので、大規模データセットに対しては時間がかかるが、小規模データセットに対してはより良い評価ができる"
   ]
  },
  {
   "cell_type": "code",
   "execution_count": 26,
   "metadata": {},
   "outputs": [
    {
     "name": "stdout",
     "output_type": "stream",
     "text": [
      "Number of cv iterations: 150\n",
      "Mean acuurancy: 0.95\n"
     ]
    }
   ],
   "source": [
    "from sklearn.model_selection import LeaveOneOut\n",
    "loo = LeaveOneOut()\n",
    "scores = cross_val_score(logreg, iris.data, iris.target, cv=loo)\n",
    "print('Number of cv iterations: {}'.format(len(scores)))\n",
    "print('Mean acuurancy: {:,.2f}'.format(scores.mean()))"
   ]
  },
  {
   "cell_type": "markdown",
   "metadata": {},
   "source": [
    "## シャッフル分割交差検証(shuffle-split cross-validation)\n",
    "毎回train_size個の点を選び出して訓練セットとして、test_size個(訓練セットと重複しない)点をテストセットとする。これをn_iter回繰り返す。  \n",
    "下図は10点からなるデータセットを訓練セットサイズ5個、テストセットサイズ2個で4回繰り返した図である。"
   ]
  },
  {
   "cell_type": "code",
   "execution_count": 27,
   "metadata": {},
   "outputs": [
    {
     "name": "stderr",
     "output_type": "stream",
     "text": [
      "/Users/ktr.w/.pyenv/versions/anaconda3-4.3.0/lib/python3.6/site-packages/mglearn/plot_cross_validation.py:85: MatplotlibDeprecationWarning: The *bottom* kwarg to `barh` is deprecated use *y* instead. Support for *bottom* will be removed in Matplotlib 3.0\n",
      "  hatch=\"//\", edgecolor='k', align='edge')\n"
     ]
    },
    {
     "data": {
      "image/png": "[encoded data removed]",
      "text/plain": [
       "<Figure size 720x144 with 1 Axes>"
      ]
     },
     "metadata": {
      "needs_background": "light"
     },
     "output_type": "display_data"
    }
   ],
   "source": [
    "mglearn.plots.plot_shuffle_split()"
   ]
  },
  {
   "cell_type": "code",
   "execution_count": 30,
   "metadata": {},
   "outputs": [
    {
     "name": "stdout",
     "output_type": "stream",
     "text": [
      "Cross-validation scores: [0.90666667 0.93333333 0.93333333 0.86666667 0.93333333 0.94666667\n",
      " 0.96       0.96       0.94666667 0.94666667]\n"
     ]
    }
   ],
   "source": [
    "from sklearn.model_selection import ShuffleSplit\n",
    "\n",
    "shuffle_split = ShuffleSplit(test_size=.5, train_size=.5, n_splits=10)\n",
    "scores = cross_val_score(logreg, iris.data, iris.target, cv=shuffle_split)\n",
    "print('Cross-validation scores: {}'.format(scores))"
   ]
  },
  {
   "cell_type": "markdown",
   "metadata": {},
   "source": [
    "train_sizeとtest_sizeの和が1とならないようにすることで、データセットの一部だけを用いるようにすることもできる。これをサブサンプリングといい、大規模データセットで有用である。  \n",
    "ShuffleSplitにも層化サンプリング(StratifiedShuffleSplit)が存在し、クラス分類タスクにおいてはより信頼できる結果を得られる。"
   ]
  },
  {
   "cell_type": "markdown",
   "metadata": {},
   "source": [
    "## グループつき交差検証\n",
    "例えば、顔画像から感情を認識するシステムを作るとする。このクラス分類器の目標はデータセットに属していない人の感情を画像から読み取ることである。この分類器の性能を評価するに層化交差検証を行うことも可能である。しかしそうすると、訓練セットにテストセットにも同じ人が含まれてしまう(層化交差検証は訓練とテストのデータセットのクラスが同じ比率になるようにサンプリングを行う)。クラス分類器にとって訓練セットに存在する人の感情を予測するのは、まったく見たことのない顔の感情を予想するよりもずっと簡単なはずだ。そうすると新しい顔に対する汎化性能を正しく評価できないことになる。    \n",
    "この場合GroupKFolfを用いる。この関数は引数にgroupsという訓練セットとテストセットを分離するのに分割してはいけないクラスを指定した配列を受け取り、データセットのサンプリングを行う。  \n",
    "このようにデータセットの中に、密接に関係するグループがある場合に訓練とテストのデータセットに含まれている人の顔が被らないようにしてサンプリングを行う方法がグループつき交差検証である"
   ]
  },
  {
   "cell_type": "code",
   "execution_count": 3,
   "metadata": {},
   "outputs": [
    {
     "ename": "NameError",
     "evalue": "name 'make_blobs' is not defined",
     "output_type": "error",
     "traceback": [
      "\u001b[0;31m---------------------------------------------------------------------------\u001b[0m",
      "\u001b[0;31mNameError\u001b[0m                                 Traceback (most recent call last)",
      "\u001b[0;32m<ipython-input-3-52f2734fcf1a>\u001b[0m in \u001b[0;36m<module>\u001b[0;34m()\u001b[0m\n\u001b[1;32m      1\u001b[0m \u001b[0;32mfrom\u001b[0m \u001b[0msklearn\u001b[0m\u001b[0;34m.\u001b[0m\u001b[0mmodel_selection\u001b[0m \u001b[0;32mimport\u001b[0m \u001b[0mGroupKFold\u001b[0m\u001b[0;34m\u001b[0m\u001b[0m\n\u001b[1;32m      2\u001b[0m \u001b[0;34m\u001b[0m\u001b[0m\n\u001b[0;32m----> 3\u001b[0;31m \u001b[0mX\u001b[0m\u001b[0;34m,\u001b[0m \u001b[0my\u001b[0m \u001b[0;34m=\u001b[0m \u001b[0mmake_blobs\u001b[0m\u001b[0;34m(\u001b[0m\u001b[0mn_samples\u001b[0m\u001b[0;34m=\u001b[0m\u001b[0;36m12\u001b[0m\u001b[0;34m,\u001b[0m \u001b[0mrandom_state\u001b[0m\u001b[0;34m=\u001b[0m\u001b[0;36m0\u001b[0m\u001b[0;34m)\u001b[0m\u001b[0;34m\u001b[0m\u001b[0m\n\u001b[0m\u001b[1;32m      4\u001b[0m \u001b[0;34m\u001b[0m\u001b[0m\n\u001b[1;32m      5\u001b[0m \u001b[0;31m#最初の3サンプルが同じグループに、次の4つが同じグループに.....というように分割されるようにする\u001b[0m\u001b[0;34m\u001b[0m\u001b[0;34m\u001b[0m\u001b[0m\n",
      "\u001b[0;31mNameError\u001b[0m: name 'make_blobs' is not defined"
     ]
    }
   ],
   "source": [
    "from sklearn.model_selection import GroupKFold\n",
    "\n",
    "X, y = make_blobs(n_samples=12, random_state=0)\n",
    "\n",
    "#最初の3サンプルが同じグループに、次の4つが同じグループに.....というように分割されるようにする\n",
    "groups = [0,0,0,1,1,1,1,2,2,3,3,3]\n",
    "scores = cross_val_score(logreg, X, y, groups=groups, cv=GroupKFold(n_splits=3))\n",
    "print('Number of cv iterations: {}'.format(scores))"
   ]
  },
  {
   "cell_type": "code",
   "execution_count": 45,
   "metadata": {},
   "outputs": [
    {
     "name": "stderr",
     "output_type": "stream",
     "text": [
      "/Users/ktr.w/.pyenv/versions/anaconda3-4.3.0/lib/python3.6/site-packages/mglearn/plot_cross_validation.py:33: MatplotlibDeprecationWarning: The *bottom* kwarg to `barh` is deprecated use *y* instead. Support for *bottom* will be removed in Matplotlib 3.0\n",
      "  hatch=\"//\", edgecolor=\"k\", align='edge')\n",
      "/Users/ktr.w/.pyenv/versions/anaconda3-4.3.0/lib/python3.6/site-packages/mglearn/plot_cross_validation.py:39: MatplotlibDeprecationWarning: The *bottom* kwarg to `barh` is deprecated use *y* instead. Support for *bottom* will be removed in Matplotlib 3.0\n",
      "  color=\"w\", edgecolor='k', align=\"edge\")\n"
     ]
    },
    {
     "data": {
      "image/png": "[encoded data removed]",
      "text/plain": [
       "<Figure size 720x144 with 1 Axes>"
      ]
     },
     "metadata": {
      "needs_background": "light"
     },
     "output_type": "display_data"
    }
   ],
   "source": [
    "mglearn.plots.plot_group_kfold()"
   ]
  },
  {
   "cell_type": "code",
   "execution_count": 27,
   "metadata": {},
   "outputs": [
    {
     "data": {
      "text/plain": [
       "2"
      ]
     },
     "execution_count": 27,
     "metadata": {},
     "output_type": "execute_result"
    }
   ],
   "source": [
    "X = np.array([[1, 2], [3, 4], [5, 6], [7, 8]])\n",
    "y = np.array([1, 2, 3, 4])\n",
    "groups = np.array([0, 0, 2, 2]) #groupを分割するための割付IDなので([0,0,1,1])でも変わらない。このインデックス順でグループとする\n",
    "group_kfold = GroupKFold(n_splits=2)\n",
    "group_kfold.get_n_splits(X, y, groups)"
   ]
  },
  {
   "cell_type": "code",
   "execution_count": 34,
   "metadata": {},
   "outputs": [
    {
     "name": "stdout",
     "output_type": "stream",
     "text": [
      "folds:1\n",
      "TRAIN: [0 1] TEST: [2 3]\n",
      "X_train: \n",
      "[[1 2]\n",
      " [3 4]]\n",
      "X_test: \n",
      "[[5 6]\n",
      " [7 8]]\n",
      "y_train: [1 2]\n",
      "y_test: [3 4]\n",
      "folds:2\n",
      "TRAIN: [2 3] TEST: [0 1]\n",
      "X_train: \n",
      "[[5 6]\n",
      " [7 8]]\n",
      "X_test: \n",
      "[[1 2]\n",
      " [3 4]]\n",
      "y_train: [3 4]\n",
      "y_test: [1 2]\n"
     ]
    }
   ],
   "source": [
    "GroupKFold(n_splits=2)\n",
    "for folds_, (train_index, test_index) in enumerate(group_kfold.split(X, y, groups)):\n",
    "    print('folds:{}'.format(str(folds_+1)))\n",
    "    print(\"TRAIN:\", train_index, \"TEST:\", test_index)\n",
    "    X_train, X_test = X[train_index], X[test_index]\n",
    "    y_train, y_test = y[train_index], y[test_index]\n",
    "    print('X_train: \\n{}'.format(X_train))\n",
    "    print('X_test: \\n{}'.format(X_test))\n",
    "    print('y_train: {}'.format(y_train))\n",
    "    print('y_test: {}'.format(y_test))"
   ]
  },
  {
   "cell_type": "markdown",
   "metadata": {},
   "source": [
    "# まとめ\n",
    "- 基本的に用いるのはKFold,StatifiedKFolf、GroupKFoldである"
   ]
  },
  {
   "cell_type": "code",
   "execution_count": null,
   "metadata": {},
   "outputs": [],
   "source": []
  }
 ],
 "metadata": {
  "kernelspec": {
   "display_name": "Python 3",
   "language": "python",
   "name": "python3"
  },
  "language_info": {
   "codemirror_mode": {
    "name": "ipython",
    "version": 3
   },
   "file_extension": ".py",
   "mimetype": "text/x-python",
   "name": "python",
   "nbconvert_exporter": "python",
   "pygments_lexer": "ipython3",
   "version": "3.6.6"
  }
 },
 "nbformat": 4,
 "nbformat_minor": 2
}
