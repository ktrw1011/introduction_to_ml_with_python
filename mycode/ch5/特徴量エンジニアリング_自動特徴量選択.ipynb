{
 "cells": [
  {
   "cell_type": "code",
   "execution_count": 1,
   "metadata": {},
   "outputs": [],
   "source": [
    "import pandas as pd\n",
    "import numpy as np\n",
    "import matplotlib.pyplot as plt\n",
    "%matplotlib inline"
   ]
  },
  {
   "cell_type": "markdown",
   "metadata": {},
   "source": [
    "モデルが複雑であるほど過剰適合の危険性が高まる。反対にモデルがシンプルであるほど、頑健で汎化性能が高くなる。有用な特徴量だけ残してデータの次元数を減らすことは良いアプローチである。どうしたらよい特徴量がわかるだろうか？3つの方法で検証していく。"
   ]
  },
  {
   "cell_type": "markdown",
   "metadata": {},
   "source": [
    "# 単変量統計\n",
    "単変量統計では個々の特徴量とターゲットとの間に統計的に顕著な関係があるかどうかを検証する。そして最も高い確信度で関連している特徴量が選択される。クラス分類では分散分析(ANOVA)として知られる手法である。この方法の特性は単変量であることである。つまり個々の特徴量を個別に考慮するので、ほかの特徴量と組み合わさって意味をもつような特徴量は切り捨てられてしまう。  \n",
    "p-値が大きすぎる(つまり、特定的に有意ではない)特徴量を捨てる。この捨てる際のスレッショルド(=閾値)を決めるが、一般的なのは数をしているする方法と、特徴量の数の割合を指定する二つの方法がある"
   ]
  },
  {
   "cell_type": "code",
   "execution_count": 10,
   "metadata": {},
   "outputs": [],
   "source": [
    "from sklearn.datasets import load_breast_cancer\n",
    "from sklearn.feature_selection import SelectPercentile\n",
    "from sklearn.model_selection import train_test_split\n",
    "\n",
    "cancer = load_breast_cancer()\n",
    "\n",
    "#シード固定で乱数を決定\n",
    "rng = np.random.RandomState(42)\n",
    "#ノイズデータをデータセットに加える\n",
    "#最初の30はデータセットからきたものであり、のこり50はノイズである\n",
    "noise = rng.normal(size=(len(cancer.data), 50))\n",
    "X_w_noise = np.hstack([cancer.data, noise]) "
   ]
  },
  {
   "cell_type": "code",
   "execution_count": 11,
   "metadata": {},
   "outputs": [
    {
     "name": "stderr",
     "output_type": "stream",
     "text": [
      "/Users/ktr.w/.pyenv/versions/anaconda3-4.3.0/lib/python3.6/site-packages/scipy/stats/stats.py:1713: FutureWarning: Using a non-tuple sequence for multidimensional indexing is deprecated; use `arr[tuple(seq)]` instead of `arr[seq]`. In the future this will be interpreted as an array index, `arr[np.array(seq)]`, which will result either in an error or a different result.\n",
      "  return np.add.reduce(sorted[indexer] * weights, axis=axis) / sumval\n"
     ]
    }
   ],
   "source": [
    "X_train, X_test, y_train, y_test = train_test_split(X_w_noise, cancer.target, random_state=0, test_size=.5)\n",
    "#クラス分類なのでテスト方法はf_classif(デフォルト)で残す特徴量を50パーセント選択\n",
    "select = SelectPercentile(percentile=50)\n",
    "select.fit(X_train, y_train)\n",
    "\n",
    "X_train_selected = select.transform(X_train)"
   ]
  },
  {
   "cell_type": "code",
   "execution_count": 13,
   "metadata": {},
   "outputs": [
    {
     "name": "stdout",
     "output_type": "stream",
     "text": [
      "X_train shape: (284, 80)\n",
      "X_train_selected shape: (284, 40)\n"
     ]
    }
   ],
   "source": [
    "print('X_train shape: {}'.format(X_train.shape))\n",
    "print('X_train_selected shape: {}'.format(X_train_selected.shape))"
   ]
  },
  {
   "cell_type": "code",
   "execution_count": 17,
   "metadata": {},
   "outputs": [
    {
     "name": "stdout",
     "output_type": "stream",
     "text": [
      "[ True  True  True  True  True  True  True  True  True False  True False\n",
      "  True  True  True  True  True  True False False  True  True  True  True\n",
      "  True  True  True  True  True  True False False False  True False  True\n",
      " False False  True False False False False  True False False  True False\n",
      " False  True False  True False False False False False False  True False\n",
      "  True False False False False  True False  True False False False False\n",
      "  True  True False  True False False False False]\n"
     ]
    },
    {
     "name": "stderr",
     "output_type": "stream",
     "text": [
      "/Users/ktr.w/.pyenv/versions/anaconda3-4.3.0/lib/python3.6/site-packages/scipy/stats/stats.py:1713: FutureWarning: Using a non-tuple sequence for multidimensional indexing is deprecated; use `arr[tuple(seq)]` instead of `arr[seq]`. In the future this will be interpreted as an array index, `arr[np.array(seq)]`, which will result either in an error or a different result.\n",
      "  return np.add.reduce(sorted[indexer] * weights, axis=axis) / sumval\n"
     ]
    },
    {
     "data": {
      "text/plain": [
       "Text(0.5,0,'Sample index')"
      ]
     },
     "execution_count": 17,
     "metadata": {},
     "output_type": "execute_result"
    },
    {
     "data": {
      "image/png": "[encoded data removed]",
      "text/plain": [
       "<Figure size 1152x144 with 1 Axes>"
      ]
     },
     "metadata": {
      "needs_background": "light"
     },
     "output_type": "display_data"
    }
   ],
   "source": [
    "mask = select.get_support()\n",
    "print(mask)\n",
    "plt.matshow(mask.reshape(1,-1), cmap='gray_r')\n",
    "plt.xlabel('Sample index')"
   ]
  },
  {
   "cell_type": "markdown",
   "metadata": {},
   "source": [
    "特徴量の数が80から40に変わっており、ほとんどのノイズが取り除かれていることがわかる。しかし、もとの特徴量の回復は完全ではない。"
   ]
  },
  {
   "cell_type": "code",
   "execution_count": 18,
   "metadata": {},
   "outputs": [
    {
     "name": "stdout",
     "output_type": "stream",
     "text": [
      "Score with all features: 0.930\n",
      "Score with all features: 0.940\n"
     ]
    },
    {
     "name": "stderr",
     "output_type": "stream",
     "text": [
      "/Users/ktr.w/.pyenv/versions/anaconda3-4.3.0/lib/python3.6/site-packages/scipy/stats/stats.py:1713: FutureWarning: Using a non-tuple sequence for multidimensional indexing is deprecated; use `arr[tuple(seq)]` instead of `arr[seq]`. In the future this will be interpreted as an array index, `arr[np.array(seq)]`, which will result either in an error or a different result.\n",
      "  return np.add.reduce(sorted[indexer] * weights, axis=axis) / sumval\n"
     ]
    }
   ],
   "source": [
    "from sklearn.linear_model import LogisticRegression\n",
    "\n",
    "X_test_slected = select.transform(X_test)\n",
    "\n",
    "lr = LogisticRegression()\n",
    "lr.fit(X_train, y_train)\n",
    "print('Score with all features: {:,.3f}'.format(lr.score(X_test, y_test)))\n",
    "\n",
    "lr.fit(X_train_selected, y_train)\n",
    "print('Score with all features: {:,.3f}'.format(lr.score(X_test_slected, y_test)))"
   ]
  },
  {
   "cell_type": "markdown",
   "metadata": {},
   "source": [
    "今回の場合は、ノイズを取り除いたことで元の特徴量が失われてしまったのにも関わらず、特徴量を選択した方が性能がいいことがわかる。  \n",
    "これがいつも有用であるとは限らないが、それでも特徴量が多すぎる場合や、多くの特徴量が関係ないと思われる場合には有用である。"
   ]
  },
  {
   "cell_type": "markdown",
   "metadata": {},
   "source": [
    "# モデルベース特徴量選択\n",
    "教師あり学習モデルを用いて個々の特徴量の重要性を判断して重要なものだけを残す手法。特徴量選択に用いる教師あり学習モデルは最終的に使う教師あり学習と同じである必要はない。"
   ]
  },
  {
   "cell_type": "code",
   "execution_count": 28,
   "metadata": {},
   "outputs": [],
   "source": [
    "from sklearn.feature_selection import SelectFromModel\n",
    "from sklearn.ensemble import RandomForestClassifier\n",
    "\n",
    "select = SelectFromModel(\n",
    "    RandomForestClassifier(n_estimators=100, random_state=42),\n",
    "    threshold='median'\n",
    ")"
   ]
  },
  {
   "cell_type": "markdown",
   "metadata": {},
   "source": [
    "SelectFromModelは教師あり学習モデルで用いられた特徴量の重要性が、指定したスレッショルドよりも大きい特徴量だけを選択する。  \n",
    "今回の例では50パーセントだけを残す。教師あり学習モデルは決定木モデルで、これは交互作用を捉えることができるモデルだし、単変量テストより複雑なのではるかに強力な手法である。"
   ]
  },
  {
   "cell_type": "code",
   "execution_count": 29,
   "metadata": {},
   "outputs": [
    {
     "name": "stdout",
     "output_type": "stream",
     "text": [
      "X_train.shape: (284, 80)\n",
      "X_train_l1.shape: (284, 40)\n"
     ]
    }
   ],
   "source": [
    "select.fit(X_train, y_train)\n",
    "X_train_l1 = select.transform(X_train)\n",
    "print('X_train.shape: {}'.format(X_train.shape))\n",
    "print('X_train_l1.shape: {}'.format(X_train_l1.shape))"
   ]
  },
  {
   "cell_type": "code",
   "execution_count": 30,
   "metadata": {},
   "outputs": [
    {
     "data": {
      "text/plain": [
       "Text(0.5,0,'Sample index')"
      ]
     },
     "execution_count": 30,
     "metadata": {},
     "output_type": "execute_result"
    },
    {
     "data": {
      "image/png": "[encoded data removed]",
      "text/plain": [
       "<Figure size 1152x144 with 1 Axes>"
      ]
     },
     "metadata": {
      "needs_background": "light"
     },
     "output_type": "display_data"
    }
   ],
   "source": [
    "mask = select.get_support()\n",
    "plt.matshow(mask.reshape(1,-1), cmap='gray_r')\n",
    "plt.xlabel('Sample index')"
   ]
  },
  {
   "cell_type": "markdown",
   "metadata": {},
   "source": [
    "もとの特徴量2つをのぞいてすべて選択されている。性能差を比較してみる"
   ]
  },
  {
   "cell_type": "code",
   "execution_count": 33,
   "metadata": {},
   "outputs": [
    {
     "name": "stdout",
     "output_type": "stream",
     "text": [
      "Test score without feature select :0.930\n",
      "Test score with feature select :0.951\n"
     ]
    }
   ],
   "source": [
    "X_test_l1 = select.transform(X_test)\n",
    "print('Test score without feature select :{:,.3f}'.format(LogisticRegression().fit(X_train,y_train).score(X_test, y_test)))\n",
    "print('Test score with feature select :{:,.3f}'.format(LogisticRegression().fit(X_train_l1,y_train).score(X_test_l1, y_test)))"
   ]
  },
  {
   "cell_type": "markdown",
   "metadata": {},
   "source": [
    "性能が向上していることがわかる。ちなみに決定木モデルでも汎化性能の上昇がみられた"
   ]
  },
  {
   "cell_type": "code",
   "execution_count": 34,
   "metadata": {},
   "outputs": [
    {
     "name": "stdout",
     "output_type": "stream",
     "text": [
      "Test score without feature select :0.940\n",
      "Test score with feature select :0.954\n"
     ]
    }
   ],
   "source": [
    "X_test_l1 = select.transform(X_test)\n",
    "print('Test score without feature select :{:,.3f}'.format(RandomForestClassifier().fit(X_train,y_train).score(X_test, y_test)))\n",
    "print('Test score with feature select :{:,.3f}'.format(RandomForestClassifier().fit(X_train_l1,y_train).score(X_test_l1, y_test)))"
   ]
  },
  {
   "cell_type": "markdown",
   "metadata": {},
   "source": [
    "# 再帰的特徴量選択(RFE: Recursive Feature Elimination)\n",
    "すべての特徴量からモデルを作り、そのモデルで最も重要度が低い特徴量を削除していき、決まった数になるまで削除を繰り返す手法である。  \n",
    "これが機能するためにはモデルが特徴量の重要性を定量的に評価する方法を備えていなければならない"
   ]
  },
  {
   "cell_type": "code",
   "execution_count": 45,
   "metadata": {},
   "outputs": [
    {
     "data": {
      "text/plain": [
       "Text(0.5,0,'Sample index')"
      ]
     },
     "execution_count": 45,
     "metadata": {},
     "output_type": "execute_result"
    },
    {
     "data": {
      "image/png": "[encoded data removed]",
      "text/plain": [
       "<Figure size 1152x144 with 1 Axes>"
      ]
     },
     "metadata": {
      "needs_background": "light"
     },
     "output_type": "display_data"
    }
   ],
   "source": [
    "from sklearn.feature_selection import RFE\n",
    "\n",
    "select = RFE(\n",
    "    RandomForestClassifier(n_estimators=100, random_state=42),\n",
    "    n_features_to_select=40\n",
    ")\n",
    "\n",
    "select.fit(X_train, y_train)\n",
    "\n",
    "mask = select.get_support()\n",
    "plt.matshow(mask.reshape(1,-1), cmap='gray_r')\n",
    "plt.xlabel('Sample index')"
   ]
  },
  {
   "cell_type": "markdown",
   "metadata": {},
   "source": [
    "単変量テストやモデルベース特徴量選択と比較して、特徴量の選択は良くなっている(もとの特徴量をひとつ落としているだけ)。  "
   ]
  },
  {
   "cell_type": "code",
   "execution_count": 48,
   "metadata": {},
   "outputs": [
    {
     "name": "stdout",
     "output_type": "stream",
     "text": [
      "Test score without feature select :0.930\n",
      "Test score with feature select :0.951\n"
     ]
    }
   ],
   "source": [
    "X_train_rfe = select.transform(X_train)\n",
    "X_test_rfe = select.transform(X_test)\n",
    "\n",
    "print('Test score without feature select :{:,.3f}'.format(LogisticRegression().fit(X_train,y_train).score(X_test, y_test)))\n",
    "print('Test score with feature select :{:,.3f}'.format(LogisticRegression().fit(X_train_rfe,y_train).score(X_test_rfe, y_test)))"
   ]
  },
  {
   "cell_type": "code",
   "execution_count": 50,
   "metadata": {},
   "outputs": [
    {
     "name": "stdout",
     "output_type": "stream",
     "text": [
      "Test score :0.951\n"
     ]
    }
   ],
   "source": [
    "#RFE内部で用いられたモデルを使うこともできる\n",
    "print('Test score :{:,.3f}'.format(select.score(X_test, y_test)))"
   ]
  },
  {
   "cell_type": "markdown",
   "metadata": {},
   "source": [
    "RFE内部で用いられたランダムフォレストの性能は選択された特徴量で訓練したロジスティック回帰モデルと同じである。つまり適切な特徴量を選んだところで、線形モデルの性能がランダムフォレストと同じになったということである。"
   ]
  },
  {
   "cell_type": "markdown",
   "metadata": {},
   "source": [
    "# まとめ\n",
    "**実世界のデータでは、特徴量の選択で性能が大幅に向上することはあまりない。**しかし、予測を高速にしたい場合や明らかに不要な特徴量が含まれている場合、そしてなにより**解釈しやすいモデルを構築したい場合**には特徴量選択は備えておくべきツールボックスであることは間違いない。"
   ]
  }
 ],
 "metadata": {
  "kernelspec": {
   "display_name": "Python 3",
   "language": "python",
   "name": "python3"
  },
  "language_info": {
   "codemirror_mode": {
    "name": "ipython",
    "version": 3
   },
   "file_extension": ".py",
   "mimetype": "text/x-python",
   "name": "python",
   "nbconvert_exporter": "python",
   "pygments_lexer": "ipython3",
   "version": "3.6.6"
  }
 },
 "nbformat": 4,
 "nbformat_minor": 2
}
