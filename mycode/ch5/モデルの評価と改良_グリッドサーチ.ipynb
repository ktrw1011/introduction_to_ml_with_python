{
 "cells": [
  {
   "cell_type": "code",
   "execution_count": 32,
   "metadata": {},
   "outputs": [],
   "source": [
    "import pandas as pd\n",
    "import numpy as np\n",
    "import mglearn\n",
    "import matplotlib.pyplot as plt\n",
    "%matplotlib inline"
   ]
  },
  {
   "cell_type": "markdown",
   "metadata": {},
   "source": [
    "# Grid Search\n",
    "モデルのパラメータに対して最良の値を設定する一般的な方法に、総当たりで組み合わせを試すのがグリッドサーチがある"
   ]
  },
  {
   "cell_type": "markdown",
   "metadata": {},
   "source": [
    "SVMで重要なパラメータに、gamma(カーネルバンド幅)、C（正則化パラメータ）がある。  \n",
    "gammaとCに6つのパラメータを設定すると、考えられる組み合わせは6*6の36通りある。ナイーブにforを用いて総当たりしたのちGridSearchを試す"
   ]
  },
  {
   "cell_type": "code",
   "execution_count": 2,
   "metadata": {},
   "outputs": [
    {
     "name": "stdout",
     "output_type": "stream",
     "text": [
      "Size of training set: 112 size of test set: 38\n"
     ]
    }
   ],
   "source": [
    "from sklearn.datasets import load_iris\n",
    "from sklearn.svm import SVC\n",
    "from sklearn.model_selection import train_test_split,cross_val_score\n",
    "iris = load_iris()\n",
    "X_train, X_test, y_train, y_test = train_test_split(iris.data, iris.target, random_state=0)\n",
    "print('Size of training set: {} size of test set: {}'.format(X_train.shape[0], X_test.shape[0]))"
   ]
  },
  {
   "cell_type": "code",
   "execution_count": 3,
   "metadata": {},
   "outputs": [
    {
     "name": "stdout",
     "output_type": "stream",
     "text": [
      "Best score :0.97\n",
      "Best paramters: {'C': 100, 'gamma': 0.001}\n"
     ]
    }
   ],
   "source": [
    "best_score = 0\n",
    "for gamma in [0.001,0.01,0.1,1,10,100]:\n",
    "    for C in  [0.001,0.01,0.1,1,10,100]:\n",
    "        #それぞれのパラメータの組合せでSVCを訓練\n",
    "        svm = SVC(gamma=gamma, C=C)\n",
    "        svm.fit(X_train, y_train)\n",
    "        #評価\n",
    "        score = svm.score(X_test,y_test)\n",
    "        #良いスコアならスコアとパラメータを更新\n",
    "        if score > best_score:\n",
    "            best_score = score\n",
    "            best_parameters = {'C':C, 'gamma':gamma}\n",
    "            \n",
    "print('Best score :{:,.2f}'.format(best_score))\n",
    "print('Best paramters: {}'.format(best_parameters))"
   ]
  },
  {
   "cell_type": "markdown",
   "metadata": {},
   "source": [
    "これを見ると、このデータセットに対して97%の精度をもつモデルを見つけたと言うは楽観的すぎる(もしくは間違っている)  \n",
    "**それはテストデータに対する予測が最も良いものでパラメータのチューニングを使ってしまったので、全くの未知のデータセットにこのパラメータが適しているとは言えないからである。**  \n",
    "これを回避するに最も一般的な方法は、訓練データとテストデータを分けたように、訓練データ(train set)、チューニング用の検証または開発データ(validation set)、テストデータ(test set)、と3分割する方法である。"
   ]
  },
  {
   "cell_type": "code",
   "execution_count": 4,
   "metadata": {},
   "outputs": [
    {
     "data": {
      "image/png": "[encoded data removed]",
      "text/plain": [
       "<Figure size 1080x72 with 1 Axes>"
      ]
     },
     "metadata": {
      "needs_background": "light"
     },
     "output_type": "display_data"
    }
   ],
   "source": [
    "mglearn.plots.plot_threefold_split()"
   ]
  },
  {
   "cell_type": "code",
   "execution_count": 5,
   "metadata": {},
   "outputs": [
    {
     "name": "stdout",
     "output_type": "stream",
     "text": [
      "Size of training set: 84 size of validation set: 28 size of test set: 38\n",
      "\n"
     ]
    }
   ],
   "source": [
    "X_trainval, X_test, y_trainval, y_test = train_test_split(iris.data, iris.target, random_state=0)\n",
    "#訓練セットを訓練セットと検証セットに分割する\n",
    "X_train, X_valid, y_train, y_valid  = train_test_split(X_trainval,y_trainval,random_state=1)\n",
    "print('Size of training set: {} size of validation set: {} size of test set: {}\\n'.format(X_train.shape[0],X_valid.shape[0], X_test.shape[0]))"
   ]
  },
  {
   "cell_type": "code",
   "execution_count": 6,
   "metadata": {},
   "outputs": [
    {
     "name": "stdout",
     "output_type": "stream",
     "text": [
      "Best score on validation set :0.96\n",
      "Best paramters: {'C': 10, 'gamma': 0.001}\n",
      "Test set score with best parameters: 0.92\n"
     ]
    }
   ],
   "source": [
    "best_score = 0\n",
    "for gamma in [0.001,0.01,0.1,1,10,100]:\n",
    "    for C in  [0.001,0.01,0.1,1,10,100]:\n",
    "        #それぞれのパラメータの組合せでSVCを訓練\n",
    "        svm = SVC(gamma=gamma, C=C)\n",
    "        svm.fit(X_train, y_train)\n",
    "        #評価\n",
    "        #score = svm.score(X_test,y_test)\n",
    "        score = svm.score(X_valid,y_valid)\n",
    "        #良いスコアならスコアとパラメータを更新\n",
    "        if score > best_score:\n",
    "            best_score = score\n",
    "            best_parameters = {'C':C, 'gamma':gamma}\n",
    " \n",
    "\n",
    "#訓練セットと検証セットを用いて、モデルを再構築し、テストセットで評価\n",
    "svm = SVC(**best_parameters)\n",
    "svm.fit(X_trainval,y_trainval)\n",
    "test_score = svm.score(X_test, y_test)\n",
    "print('Best score on validation set :{:,.2f}'.format(best_score))\n",
    "print('Best paramters: {}'.format(best_parameters))\n",
    "print('Test set score with best parameters: {:.2f}'.format(test_score))"
   ]
  },
  {
   "cell_type": "markdown",
   "metadata": {},
   "source": [
    "検証セットに対するベストスコアは96%で先ほどよりすこし低下している(訓練セットをさらに分割したのでサンプル数が減った影響だろう)  \n",
    "テストセットに対するスコア、つまり汎化性能を示すスコアは92%となった。**完全に未知なデータに対する性能として主張できるのは(パラメータを最良にチューニングした結果)97%ではなく92%ということになる**\n",
    "\n",
    "Best paramters:が{'C': 10, 'gamma': 0.001}と{'C': 100, 'gamma': 0.001}の2つ結果が得られた。パラメータはデータセットの分割の方法に影響を受けるからである。これを解決するには訓練セットと検証セットの分割を1度だけ行うのではなく、それぞれのパラメータの組合せに対して交差検証を行うとよい"
   ]
  },
  {
   "cell_type": "code",
   "execution_count": 7,
   "metadata": {},
   "outputs": [
    {
     "name": "stdout",
     "output_type": "stream",
     "text": [
      "Best score on validation set :0.97\n",
      "Best paramters: {'C': 100, 'gamma': 0.01}\n",
      "Test set score with best parameters: 0.97\n"
     ]
    }
   ],
   "source": [
    "best_score = 0\n",
    "for gamma in [0.001,0.01,0.1,1,10,100]:\n",
    "    for C in  [0.001,0.01,0.1,1,10,100]:\n",
    "        #それぞれのパラメータの組合せでSVCを訓練\n",
    "        svm = SVC(gamma=gamma, C=C)\n",
    "        svm.fit(X_train, y_train)\n",
    "        #評価\n",
    "        #score = svm.score(X_test,y_test)\n",
    "        \n",
    "        #score = svm.score(X_valid,y_valid)\n",
    "        \n",
    "        #現在のパラメータで得たモデルを用いて、訓練データでk分割交差検証を行う\n",
    "        scores = cross_val_score(svm, X_trainval, y_trainval, cv=5)\n",
    "        #交差検証精度の平均をとる\n",
    "        score = np.mean(scores)\n",
    "        #良いスコアならスコアとパラメータを更新\n",
    "        if score > best_score:\n",
    "            best_score = score\n",
    "            best_parameters = {'C':C, 'gamma':gamma}\n",
    " \n",
    "\n",
    "#訓練セットと検証セットを用いて、モデルを再構築し、テストセットで評価\n",
    "svm = SVC(**best_parameters)\n",
    "svm.fit(X_trainval,y_trainval)\n",
    "test_score = svm.score(X_test, y_test)\n",
    "print('Best score on validation set :{:,.2f}'.format(best_score))\n",
    "print('Best paramters: {}'.format(best_parameters))\n",
    "print('Test set score with best parameters: {:.2f}'.format(test_score))"
   ]
  },
  {
   "cell_type": "code",
   "execution_count": 9,
   "metadata": {},
   "outputs": [
    {
     "name": "stderr",
     "output_type": "stream",
     "text": [
      "/Users/ktr.w/.pyenv/versions/anaconda3-4.3.0/lib/python3.6/site-packages/sklearn/utils/deprecation.py:122: FutureWarning: You are accessing a training score ('split0_train_score'), which will not be available by default any more in 0.21. If you need training scores, please set return_train_score=True\n",
      "  warnings.warn(*warn_args, **warn_kwargs)\n",
      "/Users/ktr.w/.pyenv/versions/anaconda3-4.3.0/lib/python3.6/site-packages/sklearn/utils/deprecation.py:122: FutureWarning: You are accessing a training score ('split1_train_score'), which will not be available by default any more in 0.21. If you need training scores, please set return_train_score=True\n",
      "  warnings.warn(*warn_args, **warn_kwargs)\n",
      "/Users/ktr.w/.pyenv/versions/anaconda3-4.3.0/lib/python3.6/site-packages/sklearn/utils/deprecation.py:122: FutureWarning: You are accessing a training score ('split2_train_score'), which will not be available by default any more in 0.21. If you need training scores, please set return_train_score=True\n",
      "  warnings.warn(*warn_args, **warn_kwargs)\n",
      "/Users/ktr.w/.pyenv/versions/anaconda3-4.3.0/lib/python3.6/site-packages/sklearn/utils/deprecation.py:122: FutureWarning: You are accessing a training score ('split3_train_score'), which will not be available by default any more in 0.21. If you need training scores, please set return_train_score=True\n",
      "  warnings.warn(*warn_args, **warn_kwargs)\n",
      "/Users/ktr.w/.pyenv/versions/anaconda3-4.3.0/lib/python3.6/site-packages/sklearn/utils/deprecation.py:122: FutureWarning: You are accessing a training score ('split4_train_score'), which will not be available by default any more in 0.21. If you need training scores, please set return_train_score=True\n",
      "  warnings.warn(*warn_args, **warn_kwargs)\n",
      "/Users/ktr.w/.pyenv/versions/anaconda3-4.3.0/lib/python3.6/site-packages/sklearn/utils/deprecation.py:122: FutureWarning: You are accessing a training score ('mean_train_score'), which will not be available by default any more in 0.21. If you need training scores, please set return_train_score=True\n",
      "  warnings.warn(*warn_args, **warn_kwargs)\n",
      "/Users/ktr.w/.pyenv/versions/anaconda3-4.3.0/lib/python3.6/site-packages/sklearn/utils/deprecation.py:122: FutureWarning: You are accessing a training score ('std_train_score'), which will not be available by default any more in 0.21. If you need training scores, please set return_train_score=True\n",
      "  warnings.warn(*warn_args, **warn_kwargs)\n"
     ]
    },
    {
     "data": {
      "image/png": "[encoded data removed]",
      "text/plain": [
       "<Figure size 720x216 with 1 Axes>"
      ]
     },
     "metadata": {
      "needs_background": "light"
     },
     "output_type": "display_data"
    }
   ],
   "source": [
    "mglearn.plots.plot_cross_val_selection()"
   ]
  },
  {
   "cell_type": "markdown",
   "metadata": {},
   "source": [
    "## GridSearchの一連の流れ\n",
    "1. 個々のパラメータの組合せでモデルを構築\n",
    "2. 構築したモデルを用いて、訓練データで交差検証を行う\n",
    "3. 交差検証で得た精度を平均して、前回構築したモデルの精度を上回ったいたらパラメータを更新\n",
    "4. 3.で得たベストなパラメータを用いて、モデルを再構築。\n",
    "5. テストセットを用いて汎化性能を算出する"
   ]
  },
  {
   "cell_type": "code",
   "execution_count": 11,
   "metadata": {},
   "outputs": [
    {
     "data": {
      "image/png": "[encoded data removed]",
      "text/plain": [
       "<Figure size 700x210 with 1 Axes>"
      ]
     },
     "metadata": {
      "needs_background": "light"
     },
     "output_type": "display_data"
    }
   ],
   "source": [
    "mglearn.plots.plot_grid_search_overview()"
   ]
  },
  {
   "cell_type": "markdown",
   "metadata": {},
   "source": [
    "交差検証を用いたグリッドサーチは、非常に一般的にハイパーパラメータチューニングに使われるので、scikit-learnにはEstimatorの形でこの手法を実装したGridSearchCVクラスがある。"
   ]
  },
  {
   "cell_type": "markdown",
   "metadata": {},
   "source": [
    "# GridSeachCV"
   ]
  },
  {
   "cell_type": "code",
   "execution_count": 12,
   "metadata": {},
   "outputs": [
    {
     "name": "stdout",
     "output_type": "stream",
     "text": [
      "Parameter grid: {'C': [0.001, 0.01, 0.1, 1, 10, 100], 'gamma': [0.001, 0.01, 0.1, 1, 10, 100]}\n"
     ]
    }
   ],
   "source": [
    "#モデルに適用するハイパーパラメータの辞書型オブジェクトを作る\n",
    "param_grid = {\n",
    "    'C':[0.001,0.01,0.1,1,10,100],\n",
    "    'gamma':[0.001,0.01,0.1,1,10,100]\n",
    "             }\n",
    "print('Parameter grid: {}'.format(param_grid))"
   ]
  },
  {
   "cell_type": "code",
   "execution_count": 13,
   "metadata": {},
   "outputs": [],
   "source": [
    "#GridSearchCVクラスに、使用するモデル、パラメーター、交差検証戦略を指定する\n",
    "from sklearn.model_selection import GridSearchCV\n",
    "from sklearn.svm import SVC\n",
    "grid_search = GridSearchCV(SVC(), param_grid, cv=5)\n",
    "\n",
    "#パラメータの過剰適合を防ぐために訓練とテストセットにデータを分ける\n",
    "X_train, X_test, y_train, y_test = train_test_split(iris.data, iris.target, random_state=0)"
   ]
  },
  {
   "cell_type": "markdown",
   "metadata": {},
   "source": [
    "grid_searchオブジェクトは通常のscikit-learn学習器のように振る舞う。つまり標準のfit、predict,scoreメソッドを呼ぶことができる。  \n",
    "実際には、fitメソッドを呼ぶだけで、param_gridで指定したパラメータの組合せに対して交差検証が実行され、交差検証で最も性能がよかった最適なパラメータで訓練セット全体に対して新しいモデルを学習してくれる(まとめのモデルの再構築まで行う)。  \n",
    "汎化性能が知りたければ、scoreメソッドを呼べばいい  \n",
    "  \n",
    "  \n",
    "デフォルトでは回帰モデルはｋ分割交差検証、クラス分類では層化k分割検証を行うが、交差検証の分割器をcvパラメータに渡せば、独自の交差検証をおこなうことができる"
   ]
  },
  {
   "cell_type": "code",
   "execution_count": 14,
   "metadata": {},
   "outputs": [
    {
     "data": {
      "text/plain": [
       "GridSearchCV(cv=5, error_score='raise',\n",
       "       estimator=SVC(C=1.0, cache_size=200, class_weight=None, coef0=0.0,\n",
       "  decision_function_shape='ovr', degree=3, gamma='auto', kernel='rbf',\n",
       "  max_iter=-1, probability=False, random_state=None, shrinking=True,\n",
       "  tol=0.001, verbose=False),\n",
       "       fit_params=None, iid=True, n_jobs=1,\n",
       "       param_grid={'C': [0.001, 0.01, 0.1, 1, 10, 100], 'gamma': [0.001, 0.01, 0.1, 1, 10, 100]},\n",
       "       pre_dispatch='2*n_jobs', refit=True, return_train_score='warn',\n",
       "       scoring=None, verbose=0)"
      ]
     },
     "execution_count": 14,
     "metadata": {},
     "output_type": "execute_result"
    }
   ],
   "source": [
    "grid_search.fit(X_train, y_train)"
   ]
  },
  {
   "cell_type": "code",
   "execution_count": 16,
   "metadata": {},
   "outputs": [
    {
     "name": "stdout",
     "output_type": "stream",
     "text": [
      "Test set score: 0.97\n"
     ]
    }
   ],
   "source": [
    "print('Test set score: {:,.2f}'.format(grid_search.score(X_test, y_test)))"
   ]
  },
  {
   "cell_type": "code",
   "execution_count": 19,
   "metadata": {},
   "outputs": [
    {
     "name": "stdout",
     "output_type": "stream",
     "text": [
      "Best parameters: {'C': 100, 'gamma': 0.01}\n",
      "Best cross validation score: 0.97\n"
     ]
    }
   ],
   "source": [
    "print('Best parameters: {}'.format(grid_search.best_params_))\n",
    "#訓練セットに対する交差検証の平均精度の最もよかったとき\n",
    "print('Best cross validation score: {:,.2f}'.format(grid_search.best_score_))"
   ]
  },
  {
   "cell_type": "code",
   "execution_count": 20,
   "metadata": {},
   "outputs": [
    {
     "name": "stdout",
     "output_type": "stream",
     "text": [
      "Best estimator: SVC(C=100, cache_size=200, class_weight=None, coef0=0.0,\n",
      "  decision_function_shape='ovr', degree=3, gamma=0.01, kernel='rbf',\n",
      "  max_iter=-1, probability=False, random_state=None, shrinking=True,\n",
      "  tol=0.001, verbose=False)\n"
     ]
    }
   ],
   "source": [
    "#GridSearchCVにはpredict,scoreなどが実装されているのでわざわざbest_estimator属性にアクセスする必要はない\n",
    "print('Best estimator: {}'.format(grid_search.best_estimator_))"
   ]
  },
  {
   "cell_type": "markdown",
   "metadata": {},
   "source": [
    "## 交差検証の結果解析\n",
    "グリッドサーチはパラメータの総当たりなので、計算コストがかかる。したがって、比較的に荒く小さなグリッドからはじめて結果をみてさらなるグリッドサーチを進めるかを段階的に踏んだほうがよい"
   ]
  },
  {
   "cell_type": "code",
   "execution_count": 33,
   "metadata": {},
   "outputs": [
    {
     "name": "stderr",
     "output_type": "stream",
     "text": [
      "/Users/ktr.w/.pyenv/versions/anaconda3-4.3.0/lib/python3.6/site-packages/sklearn/utils/deprecation.py:122: FutureWarning: You are accessing a training score ('split0_train_score'), which will not be available by default any more in 0.21. If you need training scores, please set return_train_score=True\n",
      "  warnings.warn(*warn_args, **warn_kwargs)\n",
      "/Users/ktr.w/.pyenv/versions/anaconda3-4.3.0/lib/python3.6/site-packages/sklearn/utils/deprecation.py:122: FutureWarning: You are accessing a training score ('split1_train_score'), which will not be available by default any more in 0.21. If you need training scores, please set return_train_score=True\n",
      "  warnings.warn(*warn_args, **warn_kwargs)\n",
      "/Users/ktr.w/.pyenv/versions/anaconda3-4.3.0/lib/python3.6/site-packages/sklearn/utils/deprecation.py:122: FutureWarning: You are accessing a training score ('split2_train_score'), which will not be available by default any more in 0.21. If you need training scores, please set return_train_score=True\n",
      "  warnings.warn(*warn_args, **warn_kwargs)\n",
      "/Users/ktr.w/.pyenv/versions/anaconda3-4.3.0/lib/python3.6/site-packages/sklearn/utils/deprecation.py:122: FutureWarning: You are accessing a training score ('split3_train_score'), which will not be available by default any more in 0.21. If you need training scores, please set return_train_score=True\n",
      "  warnings.warn(*warn_args, **warn_kwargs)\n",
      "/Users/ktr.w/.pyenv/versions/anaconda3-4.3.0/lib/python3.6/site-packages/sklearn/utils/deprecation.py:122: FutureWarning: You are accessing a training score ('split4_train_score'), which will not be available by default any more in 0.21. If you need training scores, please set return_train_score=True\n",
      "  warnings.warn(*warn_args, **warn_kwargs)\n",
      "/Users/ktr.w/.pyenv/versions/anaconda3-4.3.0/lib/python3.6/site-packages/sklearn/utils/deprecation.py:122: FutureWarning: You are accessing a training score ('mean_train_score'), which will not be available by default any more in 0.21. If you need training scores, please set return_train_score=True\n",
      "  warnings.warn(*warn_args, **warn_kwargs)\n",
      "/Users/ktr.w/.pyenv/versions/anaconda3-4.3.0/lib/python3.6/site-packages/sklearn/utils/deprecation.py:122: FutureWarning: You are accessing a training score ('std_train_score'), which will not be available by default any more in 0.21. If you need training scores, please set return_train_score=True\n",
      "  warnings.warn(*warn_args, **warn_kwargs)\n"
     ]
    },
    {
     "data": {
      "text/html": [
       "<div>\n",
       "<style scoped>\n",
       "    .dataframe tbody tr th:only-of-type {\n",
       "        vertical-align: middle;\n",
       "    }\n",
       "\n",
       "    .dataframe tbody tr th {\n",
       "        vertical-align: top;\n",
       "    }\n",
       "\n",
       "    .dataframe thead th {\n",
       "        text-align: right;\n",
       "    }\n",
       "</style>\n",
       "<table border=\"1\" class=\"dataframe\">\n",
       "  <thead>\n",
       "    <tr style=\"text-align: right;\">\n",
       "      <th></th>\n",
       "      <th>mean_fit_time</th>\n",
       "      <th>std_fit_time</th>\n",
       "      <th>mean_score_time</th>\n",
       "      <th>std_score_time</th>\n",
       "      <th>param_C</th>\n",
       "      <th>param_gamma</th>\n",
       "      <th>params</th>\n",
       "      <th>split0_test_score</th>\n",
       "      <th>split1_test_score</th>\n",
       "      <th>split2_test_score</th>\n",
       "      <th>...</th>\n",
       "      <th>mean_test_score</th>\n",
       "      <th>std_test_score</th>\n",
       "      <th>rank_test_score</th>\n",
       "      <th>split0_train_score</th>\n",
       "      <th>split1_train_score</th>\n",
       "      <th>split2_train_score</th>\n",
       "      <th>split3_train_score</th>\n",
       "      <th>split4_train_score</th>\n",
       "      <th>mean_train_score</th>\n",
       "      <th>std_train_score</th>\n",
       "    </tr>\n",
       "  </thead>\n",
       "  <tbody>\n",
       "    <tr>\n",
       "      <th>0</th>\n",
       "      <td>0.001017</td>\n",
       "      <td>0.000148</td>\n",
       "      <td>0.000453</td>\n",
       "      <td>0.000111</td>\n",
       "      <td>0.001</td>\n",
       "      <td>0.001</td>\n",
       "      <td>{'C': 0.001, 'gamma': 0.001}</td>\n",
       "      <td>0.375</td>\n",
       "      <td>0.347826</td>\n",
       "      <td>0.363636</td>\n",
       "      <td>...</td>\n",
       "      <td>0.366071</td>\n",
       "      <td>0.011371</td>\n",
       "      <td>22</td>\n",
       "      <td>0.363636</td>\n",
       "      <td>0.370787</td>\n",
       "      <td>0.366667</td>\n",
       "      <td>0.366667</td>\n",
       "      <td>0.362637</td>\n",
       "      <td>0.366079</td>\n",
       "      <td>0.002852</td>\n",
       "    </tr>\n",
       "    <tr>\n",
       "      <th>1</th>\n",
       "      <td>0.000887</td>\n",
       "      <td>0.000054</td>\n",
       "      <td>0.000374</td>\n",
       "      <td>0.000021</td>\n",
       "      <td>0.001</td>\n",
       "      <td>0.01</td>\n",
       "      <td>{'C': 0.001, 'gamma': 0.01}</td>\n",
       "      <td>0.375</td>\n",
       "      <td>0.347826</td>\n",
       "      <td>0.363636</td>\n",
       "      <td>...</td>\n",
       "      <td>0.366071</td>\n",
       "      <td>0.011371</td>\n",
       "      <td>22</td>\n",
       "      <td>0.363636</td>\n",
       "      <td>0.370787</td>\n",
       "      <td>0.366667</td>\n",
       "      <td>0.366667</td>\n",
       "      <td>0.362637</td>\n",
       "      <td>0.366079</td>\n",
       "      <td>0.002852</td>\n",
       "    </tr>\n",
       "    <tr>\n",
       "      <th>2</th>\n",
       "      <td>0.000919</td>\n",
       "      <td>0.000092</td>\n",
       "      <td>0.000380</td>\n",
       "      <td>0.000021</td>\n",
       "      <td>0.001</td>\n",
       "      <td>0.1</td>\n",
       "      <td>{'C': 0.001, 'gamma': 0.1}</td>\n",
       "      <td>0.375</td>\n",
       "      <td>0.347826</td>\n",
       "      <td>0.363636</td>\n",
       "      <td>...</td>\n",
       "      <td>0.366071</td>\n",
       "      <td>0.011371</td>\n",
       "      <td>22</td>\n",
       "      <td>0.363636</td>\n",
       "      <td>0.370787</td>\n",
       "      <td>0.366667</td>\n",
       "      <td>0.366667</td>\n",
       "      <td>0.362637</td>\n",
       "      <td>0.366079</td>\n",
       "      <td>0.002852</td>\n",
       "    </tr>\n",
       "    <tr>\n",
       "      <th>3</th>\n",
       "      <td>0.000974</td>\n",
       "      <td>0.000124</td>\n",
       "      <td>0.000417</td>\n",
       "      <td>0.000097</td>\n",
       "      <td>0.001</td>\n",
       "      <td>1</td>\n",
       "      <td>{'C': 0.001, 'gamma': 1}</td>\n",
       "      <td>0.375</td>\n",
       "      <td>0.347826</td>\n",
       "      <td>0.363636</td>\n",
       "      <td>...</td>\n",
       "      <td>0.366071</td>\n",
       "      <td>0.011371</td>\n",
       "      <td>22</td>\n",
       "      <td>0.363636</td>\n",
       "      <td>0.370787</td>\n",
       "      <td>0.366667</td>\n",
       "      <td>0.366667</td>\n",
       "      <td>0.362637</td>\n",
       "      <td>0.366079</td>\n",
       "      <td>0.002852</td>\n",
       "    </tr>\n",
       "    <tr>\n",
       "      <th>4</th>\n",
       "      <td>0.001106</td>\n",
       "      <td>0.000192</td>\n",
       "      <td>0.000416</td>\n",
       "      <td>0.000092</td>\n",
       "      <td>0.001</td>\n",
       "      <td>10</td>\n",
       "      <td>{'C': 0.001, 'gamma': 10}</td>\n",
       "      <td>0.375</td>\n",
       "      <td>0.347826</td>\n",
       "      <td>0.363636</td>\n",
       "      <td>...</td>\n",
       "      <td>0.366071</td>\n",
       "      <td>0.011371</td>\n",
       "      <td>22</td>\n",
       "      <td>0.363636</td>\n",
       "      <td>0.370787</td>\n",
       "      <td>0.366667</td>\n",
       "      <td>0.366667</td>\n",
       "      <td>0.362637</td>\n",
       "      <td>0.366079</td>\n",
       "      <td>0.002852</td>\n",
       "    </tr>\n",
       "  </tbody>\n",
       "</table>\n",
       "<p>5 rows × 22 columns</p>\n",
       "</div>"
      ],
      "text/plain": [
       "   mean_fit_time  std_fit_time  mean_score_time  std_score_time param_C  \\\n",
       "0       0.001017      0.000148         0.000453        0.000111   0.001   \n",
       "1       0.000887      0.000054         0.000374        0.000021   0.001   \n",
       "2       0.000919      0.000092         0.000380        0.000021   0.001   \n",
       "3       0.000974      0.000124         0.000417        0.000097   0.001   \n",
       "4       0.001106      0.000192         0.000416        0.000092   0.001   \n",
       "\n",
       "  param_gamma                        params  split0_test_score  \\\n",
       "0       0.001  {'C': 0.001, 'gamma': 0.001}              0.375   \n",
       "1        0.01   {'C': 0.001, 'gamma': 0.01}              0.375   \n",
       "2         0.1    {'C': 0.001, 'gamma': 0.1}              0.375   \n",
       "3           1      {'C': 0.001, 'gamma': 1}              0.375   \n",
       "4          10     {'C': 0.001, 'gamma': 10}              0.375   \n",
       "\n",
       "   split1_test_score  split2_test_score       ...         mean_test_score  \\\n",
       "0           0.347826           0.363636       ...                0.366071   \n",
       "1           0.347826           0.363636       ...                0.366071   \n",
       "2           0.347826           0.363636       ...                0.366071   \n",
       "3           0.347826           0.363636       ...                0.366071   \n",
       "4           0.347826           0.363636       ...                0.366071   \n",
       "\n",
       "   std_test_score  rank_test_score  split0_train_score  split1_train_score  \\\n",
       "0        0.011371               22            0.363636            0.370787   \n",
       "1        0.011371               22            0.363636            0.370787   \n",
       "2        0.011371               22            0.363636            0.370787   \n",
       "3        0.011371               22            0.363636            0.370787   \n",
       "4        0.011371               22            0.363636            0.370787   \n",
       "\n",
       "   split2_train_score  split3_train_score  split4_train_score  \\\n",
       "0            0.366667            0.366667            0.362637   \n",
       "1            0.366667            0.366667            0.362637   \n",
       "2            0.366667            0.366667            0.362637   \n",
       "3            0.366667            0.366667            0.362637   \n",
       "4            0.366667            0.366667            0.362637   \n",
       "\n",
       "   mean_train_score  std_train_score  \n",
       "0          0.366079         0.002852  \n",
       "1          0.366079         0.002852  \n",
       "2          0.366079         0.002852  \n",
       "3          0.366079         0.002852  \n",
       "4          0.366079         0.002852  \n",
       "\n",
       "[5 rows x 22 columns]"
      ]
     },
     "execution_count": 33,
     "metadata": {},
     "output_type": "execute_result"
    }
   ],
   "source": [
    "result = pd.DataFrame(grid_search.cv_results_)\n",
    "result.head()"
   ]
  },
  {
   "cell_type": "code",
   "execution_count": 28,
   "metadata": {},
   "outputs": [],
   "source": [
    "#平均検証スコアを取り出し、軸がCとgammaとなるように変形する\n",
    "#もともとは6×6のパラメータの組み合わせ\n",
    "scores = np.array(result.mean_test_score).reshape(6,6)"
   ]
  },
  {
   "cell_type": "code",
   "execution_count": 31,
   "metadata": {},
   "outputs": [
    {
     "data": {
      "text/plain": [
       "<matplotlib.collections.PolyCollection at 0x1c179a0588>"
      ]
     },
     "execution_count": 31,
     "metadata": {},
     "output_type": "execute_result"
    },
    {
     "data": {
      "image/png": "[encoded data removed]",
      "text/plain": [
       "<Figure size 432x288 with 1 Axes>"
      ]
     },
     "metadata": {
      "needs_background": "light"
     },
     "output_type": "display_data"
    }
   ],
   "source": [
    "mglearn.tools.heatmap(scores, xlabel='gamma', xticklabels=param_grid['gamma'], ylabel='C', yticklabels=param_grid['C'], cmap='viridis')"
   ]
  },
  {
   "cell_type": "markdown",
   "metadata": {},
   "source": [
    "この図から見てわかるとおり、モデルがパラメータに非常に敏感である(精度が40%から90%までのレンジで存在する)。  "
   ]
  },
  {
   "cell_type": "code",
   "execution_count": 45,
   "metadata": {},
   "outputs": [
    {
     "data": {
      "image/png": "[encoded data removed]",
      "text/plain": [
       "<Figure size 936x360 with 3 Axes>"
      ]
     },
     "metadata": {
      "needs_background": "light"
     },
     "output_type": "display_data"
    }
   ],
   "source": [
    "fig, axes = plt.subplots(1, 3, figsize=(13,5))\n",
    "\n",
    "param_grid_linear = {\n",
    "    'C': np.linspace(1,2,6),\n",
    "    'gamma':np.linspace(1,2,6)\n",
    "                    }\n",
    "\n",
    "param_one_log = {\n",
    "    'C': np.linspace(1,2,6),\n",
    "    'gamma':np.logspace(-3,2,6)\n",
    "                    }\n",
    "\n",
    "param_grid_range = {\n",
    "    'C': np.logspace(-3,2,6),\n",
    "    'gamma':np.logspace(-7,-2,6)\n",
    "                    }\n",
    "\n",
    "for param_grid, ax in zip([param_grid_linear, param_one_log, param_grid_range], axes):\n",
    "    grid_search = GridSearchCV(SVC(), param_grid, cv=5)\n",
    "    \n",
    "    grid_search.fit(X_train, y_train)\n",
    "    scores_image = np.array(grid_search.cv_results_['mean_test_score']).reshape(6,6)\n",
    "    \n",
    "    mglearn.tools.heatmap(scores_image, xlabel='gamma', xticklabels=param_grid['gamma'], ylabel='C', yticklabels=param_grid['C'], cmap='viridis', ax=ax)\n",
    "    \n",
    "#plt.colorbar(scores_image,ax=axes.tolist())"
   ]
  },
  {
   "cell_type": "markdown",
   "metadata": {},
   "source": [
    "- 最初のヒートマップではスコアに全く変化がない。これはパラメータのレンジが不適切か、そのパラメータが重要ではないかのどちらかだ\n",
    "- 真ん中のヒートマップは横方向ににストライプのパターンが現れている。この場合はgammaのパラメータレンジが適切だが、Cのレンジは適切ではない。またはCのパラメータが重要ではないかのどちらかだ\n",
    "- 右端のヒートマップは右上にスコアの改善が見られる。つまりこのレンジより先に最適なパラメータが存在する可能性もあるということだ"
   ]
  },
  {
   "cell_type": "markdown",
   "metadata": {},
   "source": [
    "SVCにはkernelというパラメータがあり、これの指定で使用されるパラメーターが異なる。GridSearchCVはディクショナリーのリスト型を引数に取れるので、リストの中の個々のディクショナリが独立したグリッドに展開されて検証される"
   ]
  },
  {
   "cell_type": "code",
   "execution_count": 47,
   "metadata": {},
   "outputs": [
    {
     "name": "stdout",
     "output_type": "stream",
     "text": [
      "List of grid: \n",
      "[{'kernel': ['rbf'], 'C': [0.001, 0.01, 0.1, 1, 10, 100], 'gamma': [0.001, 0.01, 0.1, 1, 10, 100]}, {'kernel': ['linear'], 'C': [0.001, 0.01, 0.1, 1, 10, 100]}]\n"
     ]
    }
   ],
   "source": [
    "param_grid = [\n",
    "    {'kernel':['rbf'],\n",
    "     'C':[0.001,0.01,0.1,1,10,100],\n",
    "     'gamma':[0.001,0.01,0.1,1,10,100]\n",
    "    },\n",
    "    {'kernel':['linear'],\n",
    "     'C':[0.001,0.01,0.1,1,10,100],\n",
    "    }\n",
    "]\n",
    "\n",
    "print('List of grid: \\n{}'.format(param_grid))"
   ]
  },
  {
   "cell_type": "markdown",
   "metadata": {},
   "source": [
    "最初のグリッドではkernelはrbfになりCとgammaの36の組合せが実行され、次のグリッドではkenelがlinearでCの6つのパラメータが実行される"
   ]
  },
  {
   "cell_type": "code",
   "execution_count": 50,
   "metadata": {},
   "outputs": [
    {
     "name": "stdout",
     "output_type": "stream",
     "text": [
      "Best parameter: {'C': 100, 'gamma': 0.01, 'kernel': 'rbf'}\n",
      "Best cross-validation score : 0.97\n"
     ]
    }
   ],
   "source": [
    "grid_search = GridSearchCV(SVC(), param_grid, cv=5)\n",
    "grid_search.fit(X_train, y_train)\n",
    "print('Best parameter: {}'.format(grid_search.best_params_))\n",
    "print('Best cross-validation score : {:.2f}'.format(grid_search.best_score_))"
   ]
  },
  {
   "cell_type": "markdown",
   "metadata": {},
   "source": [
    "## ネストした交差検証\n",
    "先に示した例ではデータを訓練セット、検証セット、テストセットに分割し、さらに訓練セットで学習器を構築して、検証セットでパラメーターのチューニングを行い、最終的にテストセットで汎化性能をみた。GridSearchCVではデータを訓練セットとテストセットに一度だけ分けるので、この一度の分割に結果が依存していまいモデルが不安定になる可能性がある。  \n",
    "ここではこれを一歩先にすすめて、元のデータを訓練とテストに一度だけ分けるのではなく交差検証で分割してハイパーパラメータチューニングした結果で再度交差検証を行う手法(ネストした交差検証)を考える。"
   ]
  },
  {
   "cell_type": "code",
   "execution_count": 57,
   "metadata": {},
   "outputs": [
    {
     "name": "stdout",
     "output_type": "stream",
     "text": [
      "Cross-validation scores:  [0.96666667 1.         0.96666667 0.96666667 1.        ]\n",
      "Mean corss-validation socre:  0.9800000000000001\n"
     ]
    }
   ],
   "source": [
    "param_grid = {\n",
    "    'C':[0.001,0.01,0.1,1,10,100],\n",
    "    'gamma':[0.001,0.01,0.1,1,10,100]\n",
    "             }\n",
    "\n",
    "scores = cross_val_score(GridSearchCV(SVC(), param_grid, cv=5), iris.data, iris.target, cv=5)\n",
    "\n",
    "print('Cross-validation scores: ' ,scores)\n",
    "print('Mean corss-validation socre: ', scores.mean())"
   ]
  },
  {
   "cell_type": "markdown",
   "metadata": {},
   "source": [
    "単純ループで書くと理解できるだろう"
   ]
  },
  {
   "cell_type": "code",
   "execution_count": 78,
   "metadata": {},
   "outputs": [],
   "source": [
    "from sklearn.model_selection import ParameterGrid, StratifiedKFold\n",
    "\n",
    "def nested_cv(X, y, inner_cv, outer_cv, Classifier, paramter_gird):\n",
    "    outer_scores = []\n",
    "    #splitメソッドはインデックスを返す\n",
    "    for training_samples, test_samples in outer_cv.split(X, y):\n",
    "        best_params = {}\n",
    "        best_score = -np.inf\n",
    "        \n",
    "        for parameters in paramter_gird:\n",
    "            #{'C': 0.001, 'gamma': 0.001},{'C': 0.001, 'gamma': 0.01}...\n",
    "            #ここのパラメータの組合せに対してループ(36通り)\n",
    "            cv_scores = []\n",
    "            \n",
    "            for inner_train, inner_test in inner_cv.split(X[training_samples], y[training_samples]):\n",
    "                #パラメータチューニングに対する交差検証\n",
    "                clf = Classifier(**parameters)\n",
    "                clf.fit(X[inner_train], y[inner_train])\n",
    "                #現在のパラメーターでモデルを評価\n",
    "                score = clf.score(X[inner_test], y[inner_test])\n",
    "                cv_scores.append(score)\n",
    "            \n",
    "            #内部分割によるスコアの平均を算出\n",
    "            mean_score = np.mean(cv_scores)\n",
    "            if mean_score > best_score:\n",
    "                #平均スコアがよければスコアとパラメータを更新\n",
    "                best_score = mean_score\n",
    "                best_params = parameters\n",
    "            \n",
    "        #最良のパラメータを用いて交差検証を行う\n",
    "        clf = Classifier(**best_params)\n",
    "        clf.fit(X[training_samples], y[training_samples])\n",
    "        #評価する\n",
    "        outer_scores.append(clf.score(X[test_samples], y[test_samples]))\n",
    "    \n",
    "    return np.array(outer_scores)"
   ]
  },
  {
   "cell_type": "code",
   "execution_count": 79,
   "metadata": {},
   "outputs": [
    {
     "name": "stdout",
     "output_type": "stream",
     "text": [
      "Cross-validation scores: [0.96666667 1.         0.96666667 0.96666667 1.        ]\n"
     ]
    }
   ],
   "source": [
    "scores = nested_cv(iris.data, iris.target, StratifiedKFold(5), StratifiedKFold(5), SVC, ParameterGrid(param_grid))\n",
    "print('Cross-validation scores: {}'.format(scores))"
   ]
  },
  {
   "cell_type": "markdown",
   "metadata": {},
   "source": [
    "グリッドサーチと交差検証は計算コストがかかるが、個々のグリッドサーチパラメーターは互いに独立なので並列実行可能である。  \n",
    "scikit-learnではn_jobsで並列実行をサポートしている。ただしネストした並列実行はサポートされていないので、ランダムフォレストのようにモデルで並列実行を指定しているとGridSearchCVで並列実行はできない"
   ]
  },
  {
   "cell_type": "code",
   "execution_count": null,
   "metadata": {},
   "outputs": [],
   "source": []
  }
 ],
 "metadata": {
  "kernelspec": {
   "display_name": "Python 3",
   "language": "python",
   "name": "python3"
  },
  "language_info": {
   "codemirror_mode": {
    "name": "ipython",
    "version": 3
   },
   "file_extension": ".py",
   "mimetype": "text/x-python",
   "name": "python",
   "nbconvert_exporter": "python",
   "pygments_lexer": "ipython3",
   "version": "3.6.7"
  }
 },
 "nbformat": 4,
 "nbformat_minor": 2
}
