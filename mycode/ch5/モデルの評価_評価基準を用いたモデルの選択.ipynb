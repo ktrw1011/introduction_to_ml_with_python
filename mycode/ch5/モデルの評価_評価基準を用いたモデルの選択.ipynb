{
 "cells": [
  {
   "cell_type": "code",
   "execution_count": 2,
   "metadata": {},
   "outputs": [],
   "source": [
    "import pandas as pd\n",
    "import numpy as np\n",
    "import mglearn\n",
    "import matplotlib.pyplot as plt\n",
    "%matplotlib inline"
   ]
  },
  {
   "cell_type": "markdown",
   "metadata": {},
   "source": [
    "# 評価基準の変更\n",
    "scoreで評価基準をaccurancyからAUCなどに変えたい場合には、scoring引数に対応する文字列を与える。"
   ]
  },
  {
   "cell_type": "code",
   "execution_count": 5,
   "metadata": {},
   "outputs": [],
   "source": [
    "from sklearn.model_selection import train_test_split\n",
    "from sklearn.datasets import load_digits\n",
    "from sklearn.svm import SVC\n",
    "digits = load_digits()\n",
    "y = digits.target == 9\n",
    "\n",
    "X_train, X_test, y_train, y_test = train_test_split(digits.data, y, random_state=0) "
   ]
  },
  {
   "cell_type": "code",
   "execution_count": 15,
   "metadata": {},
   "outputs": [
    {
     "name": "stdout",
     "output_type": "stream",
     "text": [
      "Default socirng : [0.89983306 0.89983306 0.89983306]\n",
      "Explicit accuracy socirng : [0.89983306 0.89983306 0.89983306]\n",
      "AUC socirng : [0.99372294 0.98957947 0.99594929]\n"
     ]
    }
   ],
   "source": [
    "from sklearn.model_selection import cross_val_score\n",
    "print('Default socirng : {}'.format(cross_val_score(SVC(), digits.data, digits.target == 9)))\n",
    "#scoring='accurancy'としても変わらない\n",
    "print('Explicit accuracy socirng : {}'.format(cross_val_score(SVC(), digits.data, digits.target == 9, scoring='accuracy')))\n",
    "\n",
    "print('AUC socirng : {}'.format(cross_val_score(SVC(), digits.data, digits.target == 9, scoring='roc_auc')))"
   ]
  },
  {
   "cell_type": "markdown",
   "metadata": {},
   "source": [
    "GridSearchCVで最も良いパラメーターを探索する時の指標も変更することができる"
   ]
  },
  {
   "cell_type": "code",
   "execution_count": 20,
   "metadata": {},
   "outputs": [
    {
     "name": "stdout",
     "output_type": "stream",
     "text": [
      "Grid Search with accuracy\n",
      "Best parameters; {'gamma': 0.0001}\n",
      "Best cross-validation score (accuracy): 0.970\n",
      "Test set AUC: 0.992\n",
      "Test set accuracy: 0.973\n"
     ]
    }
   ],
   "source": [
    "from sklearn.model_selection import GridSearchCV\n",
    "from sklearn.metrics import roc_auc_score\n",
    "X_train, X_test, y_train, y_test = train_test_split(digits.data, digits.target==9, random_state=0)\n",
    "\n",
    "param_grid = {'gamma': [0.0001,0.01,0.1,1,10]}\n",
    "\n",
    "#デフォルトのスコア法である精度で評価\n",
    "grid = GridSearchCV(SVC(), param_grid=param_grid)\n",
    "grid.fit(X_train, y_train)\n",
    "print('Grid Search with accuracy')\n",
    "print('Best parameters;', grid.best_params_)\n",
    "print('Best cross-validation score (accuracy): {:.3f}'.format(grid.best_score_))\n",
    "print('Test set AUC: {:.3f}'.format(roc_auc_score(y_test, grid.decision_function(X_test))))\n",
    "print('Test set accuracy: {:.3f}'.format(grid.score(X_test, y_test)))"
   ]
  },
  {
   "cell_type": "code",
   "execution_count": 21,
   "metadata": {},
   "outputs": [
    {
     "name": "stdout",
     "output_type": "stream",
     "text": [
      "Grid Search with accuracy\n",
      "Best parameters; {'gamma': 0.01}\n",
      "Best cross-validation score (AUC): 0.997\n",
      "Test set AUC: 1.000\n",
      "Test set accuracy: 1.000\n"
     ]
    }
   ],
   "source": [
    "#AUCで評価\n",
    "grid = GridSearchCV(SVC(), param_grid=param_grid, scoring='roc_auc')\n",
    "grid.fit(X_train, y_train)\n",
    "print('Grid Search with accuracy')\n",
    "print('Best parameters;', grid.best_params_)\n",
    "print('Best cross-validation score (AUC): {:.3f}'.format(grid.best_score_))\n",
    "print('Test set AUC: {:.3f}'.format(roc_auc_score(y_test, grid.decision_function(X_test))))\n",
    "print('Test set accuracy: {:.3f}'.format(grid.score(X_test, y_test)))"
   ]
  },
  {
   "cell_type": "markdown",
   "metadata": {},
   "source": [
    "評価指標に精度を用いるとgamma=0.0001が選択されるが、AUCを選択するとgamma=0.01が選択される。どちらも交差検証精度はテストセット精度と同じくらいである。しかしAUCスコアを用いて見つけたパラメーターの方が精度でもAUCでも性能が良い。これは偏ったデータセットにおいては精度は良い評価基準ではないことによるものである。  \n",
    "クラス分類におけるscoringパラメーターの値として重要なものとしては、accuracy、roc_auc, f1, f1_macro, f1_micro, f1_weightedがある。回帰でよく用いられるのはr2、mean_squared_error、mean_absolute_errorである。"
   ]
  },
  {
   "cell_type": "code",
   "execution_count": null,
   "metadata": {},
   "outputs": [],
   "source": []
  }
 ],
 "metadata": {
  "kernelspec": {
   "display_name": "Python 3",
   "language": "python",
   "name": "python3"
  },
  "language_info": {
   "codemirror_mode": {
    "name": "ipython",
    "version": 3
   },
   "file_extension": ".py",
   "mimetype": "text/x-python",
   "name": "python",
   "nbconvert_exporter": "python",
   "pygments_lexer": "ipython3",
   "version": "3.6.6"
  }
 },
 "nbformat": 4,
 "nbformat_minor": 2
}
